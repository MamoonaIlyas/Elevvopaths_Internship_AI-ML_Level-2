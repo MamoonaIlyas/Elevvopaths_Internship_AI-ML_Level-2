{
  "nbformat": 4,
  "nbformat_minor": 0,
  "metadata": {
    "colab": {
      "provenance": []
    },
    "kernelspec": {
      "name": "python3",
      "display_name": "Python 3"
    },
    "language_info": {
      "name": "python"
    }
  },
  "cells": [
    {
      "cell_type": "markdown",
      "source": [
        "Task 3:  Forest Cover Type Classification"
      ],
      "metadata": {
        "id": "1CQC4GS2esW3"
      }
    },
    {
      "cell_type": "markdown",
      "source": [
        "Import necessary libraries"
      ],
      "metadata": {
        "id": "V7SZ0d_nevM0"
      }
    },
    {
      "cell_type": "code",
      "source": [
        "import numpy as np\n",
        "import pandas as pd\n",
        "import matplotlib.pyplot as plt\n",
        "import seaborn as sns\n",
        "from sklearn.model_selection import train_test_split, GridSearchCV\n",
        "from sklearn.preprocessing import StandardScaler, OneHotEncoder\n",
        "from sklearn.compose import ColumnTransformer\n",
        "from sklearn.pipeline import Pipeline\n",
        "from sklearn.metrics import confusion_matrix, classification_report, ConfusionMatrixDisplay\n",
        "from sklearn.ensemble import RandomForestClassifier\n",
        "from xgboost import XGBClassifier"
      ],
      "metadata": {
        "id": "qkAk6pqTexPi"
      },
      "execution_count": 39,
      "outputs": []
    },
    {
      "cell_type": "markdown",
      "source": [
        "-----------------------------------------------------------------------------\n",
        "STEP 1: Data Generation (Simulating the UCI Covertype Dataset)\n",
        "-----------------------------------------------------------------------------\n",
        "We'll create a synthetic dataset that mimics the key features of the Covertype dataset\n",
        "to demonstrate the classification task.\n",
        "The original dataset has 54 features, including 10 continuous and 44 binary\n",
        "for soil type and wilderness area. We will simplify this for clarity."
      ],
      "metadata": {
        "id": "UaoQd2mde3uy"
      }
    },
    {
      "cell_type": "code",
      "source": [
        "np.random.seed(42)\n"
      ],
      "metadata": {
        "id": "nMZfUCxOe9Fb"
      },
      "execution_count": 40,
      "outputs": []
    },
    {
      "cell_type": "markdown",
      "source": [
        "Generate continuous features (e.g., elevation, aspect, slope)"
      ],
      "metadata": {
        "id": "3di0PJA1e_pP"
      }
    },
    {
      "cell_type": "code",
      "source": [
        "n_samples = 1000\n",
        "elevation = np.random.uniform(1800, 3900, n_samples)\n",
        "aspect = np.random.uniform(0, 360, n_samples)\n",
        "slope = np.random.uniform(0, 60, n_samples)\n",
        "dist_hydro = np.random.uniform(0, 1400, n_samples)\n",
        "dist_road = np.random.uniform(0, 7000, n_samples)"
      ],
      "metadata": {
        "id": "iiTkY5AxfGwh"
      },
      "execution_count": 41,
      "outputs": []
    },
    {
      "cell_type": "markdown",
      "source": [
        "Generate categorical features (e.g., wilderness area, soil type)"
      ],
      "metadata": {
        "id": "bTnZeGcIfKJP"
      }
    },
    {
      "cell_type": "code",
      "source": [
        "wilderness_area = np.random.choice(['Area_1', 'Area_2', 'Area_3', 'Area_4'], n_samples, p=[0.3, 0.4, 0.2, 0.1])\n",
        "soil_type = np.random.choice([f'Soil_{i}' for i in range(1, 10)], n_samples)"
      ],
      "metadata": {
        "id": "9PRKziXUfLGo"
      },
      "execution_count": 42,
      "outputs": []
    },
    {
      "cell_type": "markdown",
      "source": [
        "\n",
        "Generate the target variable (Cover Type, 7 classes) based on a simple rule\n",
        "This rule creates a relationship between features and the target for the model to learn"
      ],
      "metadata": {
        "id": "N3BWa8MNfxg7"
      }
    },
    {
      "cell_type": "code",
      "source": [
        "cover_type = np.zeros(n_samples, dtype=int)\n",
        "cover_type[(elevation > 3000) & (slope < 20)] = 1\n",
        "cover_type[(elevation <= 3000) & (aspect > 180)] = 2\n",
        "cover_type[(dist_road > 5000) & (wilderness_area == 'Area_4')] = 3\n",
        "cover_type[(elevation > 3500) & (dist_hydro < 500)] = 4\n",
        "cover_type[(slope > 40) & (dist_road < 2000)] = 5\n",
        "cover_type[(elevation < 2500) & (wilderness_area == 'Area_1')] = 6\n",
        "cover_type = np.clip(cover_type, 0, 6) # Ensure 7 classes (0-6)\n"
      ],
      "metadata": {
        "id": "CBBnztJpf2l6"
      },
      "execution_count": 43,
      "outputs": []
    },
    {
      "cell_type": "markdown",
      "source": [
        " Create a Pandas DataFrame"
      ],
      "metadata": {
        "id": "8dAT-W0-f3cU"
      }
    },
    {
      "cell_type": "code",
      "source": [
        "data = pd.DataFrame({\n",
        "    'Elevation': elevation,\n",
        "    'Aspect': aspect,\n",
        "    'Slope': slope,\n",
        "    'Dist_to_Hydro': dist_hydro,\n",
        "    'Dist_to_Road': dist_road,\n",
        "    'Wilderness_Area': wilderness_area,\n",
        "    'Soil_Type': soil_type,\n",
        "    'Cover_Type': cover_type\n",
        "})\n",
        "\n",
        "print(\"First 5 rows of the generated dataset:\")\n",
        "print(data.head())\n",
        "print(\"\\nDataset Info:\")\n",
        "data.info()\n",
        "print(\"\\nTarget variable distribution:\")\n",
        "print(data['Cover_Type'].value_counts())\n"
      ],
      "metadata": {
        "colab": {
          "base_uri": "https://localhost:8080/"
        },
        "id": "uOIviE0kf6k8",
        "outputId": "49f5b398-7843-4dbc-c558-039e2a53098d"
      },
      "execution_count": 44,
      "outputs": [
        {
          "output_type": "stream",
          "name": "stdout",
          "text": [
            "First 5 rows of the generated dataset:\n",
            "     Elevation      Aspect      Slope  Dist_to_Hydro  Dist_to_Road  \\\n",
            "0  2586.534250   66.647854  15.702341     941.784192   4003.971148   \n",
            "1  3796.500043  195.084341  14.818728    1115.353956   5638.026305   \n",
            "2  3337.187278  314.260501  54.375275     350.655058   5321.126509   \n",
            "3  3057.182817  263.600959  14.972772     874.823739   1077.299333   \n",
            "4  2127.639145  290.362013  16.316984     800.444376   1044.746288   \n",
            "\n",
            "  Wilderness_Area Soil_Type  Cover_Type  \n",
            "0          Area_2    Soil_1           0  \n",
            "1          Area_2    Soil_1           1  \n",
            "2          Area_3    Soil_3           0  \n",
            "3          Area_2    Soil_5           1  \n",
            "4          Area_3    Soil_3           2  \n",
            "\n",
            "Dataset Info:\n",
            "<class 'pandas.core.frame.DataFrame'>\n",
            "RangeIndex: 1000 entries, 0 to 999\n",
            "Data columns (total 8 columns):\n",
            " #   Column           Non-Null Count  Dtype  \n",
            "---  ------           --------------  -----  \n",
            " 0   Elevation        1000 non-null   float64\n",
            " 1   Aspect           1000 non-null   float64\n",
            " 2   Slope            1000 non-null   float64\n",
            " 3   Dist_to_Hydro    1000 non-null   float64\n",
            " 4   Dist_to_Road     1000 non-null   float64\n",
            " 5   Wilderness_Area  1000 non-null   object \n",
            " 6   Soil_Type        1000 non-null   object \n",
            " 7   Cover_Type       1000 non-null   int64  \n",
            "dtypes: float64(5), int64(1), object(2)\n",
            "memory usage: 62.6+ KB\n",
            "\n",
            "Target variable distribution:\n",
            "Cover_Type\n",
            "0    390\n",
            "2    214\n",
            "1    125\n",
            "6    100\n",
            "5     80\n",
            "4     68\n",
            "3     23\n",
            "Name: count, dtype: int64\n"
          ]
        }
      ]
    },
    {
      "cell_type": "markdown",
      "source": [
        "Define features (X) and target (y)"
      ],
      "metadata": {
        "id": "cpFkcraVf-ms"
      }
    },
    {
      "cell_type": "code",
      "source": [
        "X = data.drop('Cover_Type', axis=1)\n",
        "y = data['Cover_Type']\n"
      ],
      "metadata": {
        "id": "T--UH46JgB6X"
      },
      "execution_count": 45,
      "outputs": []
    },
    {
      "cell_type": "markdown",
      "source": [
        "-----------------------------------------------------------------------------\n",
        "STEP 2: Data Preprocessing\n",
        "-----------------------------------------------------------------------------\n",
        "We need to handle categorical features and scale numerical ones.\n",
        "We'll use ColumnTransformer for this to apply different transformations\n",
        "to different columns.\n"
      ],
      "metadata": {
        "id": "5tm8foiMgFOB"
      }
    },
    {
      "cell_type": "markdown",
      "source": [
        "Identify numerical and categorical features"
      ],
      "metadata": {
        "id": "7aLQaWVsgVJE"
      }
    },
    {
      "cell_type": "code",
      "source": [
        "numerical_features = X.select_dtypes(include=['float64']).columns\n",
        "categorical_features = X.select_dtypes(include=['object']).columns\n"
      ],
      "metadata": {
        "id": "3zbe3wYygYu8"
      },
      "execution_count": 46,
      "outputs": []
    },
    {
      "cell_type": "markdown",
      "source": [
        "Create the preprocessing pipeline"
      ],
      "metadata": {
        "id": "ZwfiqmjYgfEL"
      }
    },
    {
      "cell_type": "code",
      "source": [
        "preprocessor = ColumnTransformer(\n",
        "    transformers=[\n",
        "        ('num', StandardScaler(), numerical_features),\n",
        "        ('cat', OneHotEncoder(handle_unknown='ignore'), categorical_features)\n",
        "    ])\n"
      ],
      "metadata": {
        "id": "WVlm5Nwkgfxv"
      },
      "execution_count": 47,
      "outputs": []
    },
    {
      "cell_type": "markdown",
      "source": [
        "Split the data into training and testing sets"
      ],
      "metadata": {
        "id": "30XasB9Wgj-f"
      }
    },
    {
      "cell_type": "code",
      "source": [
        "X_train, X_test, y_train, y_test = train_test_split(X, y, test_size=0.25, random_state=42, stratify=y)\n",
        "\n",
        "print(f\"\\nTraining set size: {len(X_train)} samples\")\n",
        "print(f\"Testing set size: {len(X_test)} samples\")"
      ],
      "metadata": {
        "colab": {
          "base_uri": "https://localhost:8080/"
        },
        "id": "CwP9dlweg4LL",
        "outputId": "5c3fe1da-e60c-4b4e-b65e-f6aff6252776"
      },
      "execution_count": 48,
      "outputs": [
        {
          "output_type": "stream",
          "name": "stdout",
          "text": [
            "\n",
            "Training set size: 750 samples\n",
            "Testing set size: 250 samples\n"
          ]
        }
      ]
    },
    {
      "cell_type": "markdown",
      "source": [
        "-----------------------------------------------------------------------------\n",
        "STEP 3: Train and Evaluate Multi-Class Classification Models\n",
        "-----------------------------------------------------------------------------\n",
        "We will train two popular tree-based models: Random Forest and XGBoost.\n"
      ],
      "metadata": {
        "id": "1TRqFB1Wgng6"
      }
    },
    {
      "cell_type": "markdown",
      "source": [
        "Model 1: Random Forest Classifier"
      ],
      "metadata": {
        "id": "UzVrOSkqg_j9"
      }
    },
    {
      "cell_type": "code",
      "source": [
        "print(\"\\n--- Training Random Forest Classifier ---\")\n",
        "rf_pipeline = Pipeline(steps=[\n",
        "    ('preprocessor', preprocessor),\n",
        "    ('classifier', RandomForestClassifier(n_estimators=100, random_state=42))\n",
        "])\n"
      ],
      "metadata": {
        "colab": {
          "base_uri": "https://localhost:8080/"
        },
        "id": "sHLxNO3EhMTh",
        "outputId": "2264b217-2112-49c6-a2be-e2c7a4b13c6f"
      },
      "execution_count": 49,
      "outputs": [
        {
          "output_type": "stream",
          "name": "stdout",
          "text": [
            "\n",
            "--- Training Random Forest Classifier ---\n"
          ]
        }
      ]
    },
    {
      "cell_type": "markdown",
      "source": [
        "Fit the model"
      ],
      "metadata": {
        "id": "CUnwZSNuhO8z"
      }
    },
    {
      "cell_type": "code",
      "source": [
        "rf_pipeline.fit(X_train, y_train)"
      ],
      "metadata": {
        "colab": {
          "base_uri": "https://localhost:8080/",
          "height": 246
        },
        "id": "mcW0iuvGhPwt",
        "outputId": "38f38700-0bad-400b-f7f9-362c4e506ea8"
      },
      "execution_count": 50,
      "outputs": [
        {
          "output_type": "execute_result",
          "data": {
            "text/plain": [
              "Pipeline(steps=[('preprocessor',\n",
              "                 ColumnTransformer(transformers=[('num', StandardScaler(),\n",
              "                                                  Index(['Elevation', 'Aspect', 'Slope', 'Dist_to_Hydro', 'Dist_to_Road'], dtype='object')),\n",
              "                                                 ('cat',\n",
              "                                                  OneHotEncoder(handle_unknown='ignore'),\n",
              "                                                  Index(['Wilderness_Area', 'Soil_Type'], dtype='object'))])),\n",
              "                ('classifier', RandomForestClassifier(random_state=42))])"
            ],
            "text/html": [
              "<style>#sk-container-id-6 {\n",
              "  /* Definition of color scheme common for light and dark mode */\n",
              "  --sklearn-color-text: #000;\n",
              "  --sklearn-color-text-muted: #666;\n",
              "  --sklearn-color-line: gray;\n",
              "  /* Definition of color scheme for unfitted estimators */\n",
              "  --sklearn-color-unfitted-level-0: #fff5e6;\n",
              "  --sklearn-color-unfitted-level-1: #f6e4d2;\n",
              "  --sklearn-color-unfitted-level-2: #ffe0b3;\n",
              "  --sklearn-color-unfitted-level-3: chocolate;\n",
              "  /* Definition of color scheme for fitted estimators */\n",
              "  --sklearn-color-fitted-level-0: #f0f8ff;\n",
              "  --sklearn-color-fitted-level-1: #d4ebff;\n",
              "  --sklearn-color-fitted-level-2: #b3dbfd;\n",
              "  --sklearn-color-fitted-level-3: cornflowerblue;\n",
              "\n",
              "  /* Specific color for light theme */\n",
              "  --sklearn-color-text-on-default-background: var(--sg-text-color, var(--theme-code-foreground, var(--jp-content-font-color1, black)));\n",
              "  --sklearn-color-background: var(--sg-background-color, var(--theme-background, var(--jp-layout-color0, white)));\n",
              "  --sklearn-color-border-box: var(--sg-text-color, var(--theme-code-foreground, var(--jp-content-font-color1, black)));\n",
              "  --sklearn-color-icon: #696969;\n",
              "\n",
              "  @media (prefers-color-scheme: dark) {\n",
              "    /* Redefinition of color scheme for dark theme */\n",
              "    --sklearn-color-text-on-default-background: var(--sg-text-color, var(--theme-code-foreground, var(--jp-content-font-color1, white)));\n",
              "    --sklearn-color-background: var(--sg-background-color, var(--theme-background, var(--jp-layout-color0, #111)));\n",
              "    --sklearn-color-border-box: var(--sg-text-color, var(--theme-code-foreground, var(--jp-content-font-color1, white)));\n",
              "    --sklearn-color-icon: #878787;\n",
              "  }\n",
              "}\n",
              "\n",
              "#sk-container-id-6 {\n",
              "  color: var(--sklearn-color-text);\n",
              "}\n",
              "\n",
              "#sk-container-id-6 pre {\n",
              "  padding: 0;\n",
              "}\n",
              "\n",
              "#sk-container-id-6 input.sk-hidden--visually {\n",
              "  border: 0;\n",
              "  clip: rect(1px 1px 1px 1px);\n",
              "  clip: rect(1px, 1px, 1px, 1px);\n",
              "  height: 1px;\n",
              "  margin: -1px;\n",
              "  overflow: hidden;\n",
              "  padding: 0;\n",
              "  position: absolute;\n",
              "  width: 1px;\n",
              "}\n",
              "\n",
              "#sk-container-id-6 div.sk-dashed-wrapped {\n",
              "  border: 1px dashed var(--sklearn-color-line);\n",
              "  margin: 0 0.4em 0.5em 0.4em;\n",
              "  box-sizing: border-box;\n",
              "  padding-bottom: 0.4em;\n",
              "  background-color: var(--sklearn-color-background);\n",
              "}\n",
              "\n",
              "#sk-container-id-6 div.sk-container {\n",
              "  /* jupyter's `normalize.less` sets `[hidden] { display: none; }`\n",
              "     but bootstrap.min.css set `[hidden] { display: none !important; }`\n",
              "     so we also need the `!important` here to be able to override the\n",
              "     default hidden behavior on the sphinx rendered scikit-learn.org.\n",
              "     See: https://github.com/scikit-learn/scikit-learn/issues/21755 */\n",
              "  display: inline-block !important;\n",
              "  position: relative;\n",
              "}\n",
              "\n",
              "#sk-container-id-6 div.sk-text-repr-fallback {\n",
              "  display: none;\n",
              "}\n",
              "\n",
              "div.sk-parallel-item,\n",
              "div.sk-serial,\n",
              "div.sk-item {\n",
              "  /* draw centered vertical line to link estimators */\n",
              "  background-image: linear-gradient(var(--sklearn-color-text-on-default-background), var(--sklearn-color-text-on-default-background));\n",
              "  background-size: 2px 100%;\n",
              "  background-repeat: no-repeat;\n",
              "  background-position: center center;\n",
              "}\n",
              "\n",
              "/* Parallel-specific style estimator block */\n",
              "\n",
              "#sk-container-id-6 div.sk-parallel-item::after {\n",
              "  content: \"\";\n",
              "  width: 100%;\n",
              "  border-bottom: 2px solid var(--sklearn-color-text-on-default-background);\n",
              "  flex-grow: 1;\n",
              "}\n",
              "\n",
              "#sk-container-id-6 div.sk-parallel {\n",
              "  display: flex;\n",
              "  align-items: stretch;\n",
              "  justify-content: center;\n",
              "  background-color: var(--sklearn-color-background);\n",
              "  position: relative;\n",
              "}\n",
              "\n",
              "#sk-container-id-6 div.sk-parallel-item {\n",
              "  display: flex;\n",
              "  flex-direction: column;\n",
              "}\n",
              "\n",
              "#sk-container-id-6 div.sk-parallel-item:first-child::after {\n",
              "  align-self: flex-end;\n",
              "  width: 50%;\n",
              "}\n",
              "\n",
              "#sk-container-id-6 div.sk-parallel-item:last-child::after {\n",
              "  align-self: flex-start;\n",
              "  width: 50%;\n",
              "}\n",
              "\n",
              "#sk-container-id-6 div.sk-parallel-item:only-child::after {\n",
              "  width: 0;\n",
              "}\n",
              "\n",
              "/* Serial-specific style estimator block */\n",
              "\n",
              "#sk-container-id-6 div.sk-serial {\n",
              "  display: flex;\n",
              "  flex-direction: column;\n",
              "  align-items: center;\n",
              "  background-color: var(--sklearn-color-background);\n",
              "  padding-right: 1em;\n",
              "  padding-left: 1em;\n",
              "}\n",
              "\n",
              "\n",
              "/* Toggleable style: style used for estimator/Pipeline/ColumnTransformer box that is\n",
              "clickable and can be expanded/collapsed.\n",
              "- Pipeline and ColumnTransformer use this feature and define the default style\n",
              "- Estimators will overwrite some part of the style using the `sk-estimator` class\n",
              "*/\n",
              "\n",
              "/* Pipeline and ColumnTransformer style (default) */\n",
              "\n",
              "#sk-container-id-6 div.sk-toggleable {\n",
              "  /* Default theme specific background. It is overwritten whether we have a\n",
              "  specific estimator or a Pipeline/ColumnTransformer */\n",
              "  background-color: var(--sklearn-color-background);\n",
              "}\n",
              "\n",
              "/* Toggleable label */\n",
              "#sk-container-id-6 label.sk-toggleable__label {\n",
              "  cursor: pointer;\n",
              "  display: flex;\n",
              "  width: 100%;\n",
              "  margin-bottom: 0;\n",
              "  padding: 0.5em;\n",
              "  box-sizing: border-box;\n",
              "  text-align: center;\n",
              "  align-items: start;\n",
              "  justify-content: space-between;\n",
              "  gap: 0.5em;\n",
              "}\n",
              "\n",
              "#sk-container-id-6 label.sk-toggleable__label .caption {\n",
              "  font-size: 0.6rem;\n",
              "  font-weight: lighter;\n",
              "  color: var(--sklearn-color-text-muted);\n",
              "}\n",
              "\n",
              "#sk-container-id-6 label.sk-toggleable__label-arrow:before {\n",
              "  /* Arrow on the left of the label */\n",
              "  content: \"▸\";\n",
              "  float: left;\n",
              "  margin-right: 0.25em;\n",
              "  color: var(--sklearn-color-icon);\n",
              "}\n",
              "\n",
              "#sk-container-id-6 label.sk-toggleable__label-arrow:hover:before {\n",
              "  color: var(--sklearn-color-text);\n",
              "}\n",
              "\n",
              "/* Toggleable content - dropdown */\n",
              "\n",
              "#sk-container-id-6 div.sk-toggleable__content {\n",
              "  max-height: 0;\n",
              "  max-width: 0;\n",
              "  overflow: hidden;\n",
              "  text-align: left;\n",
              "  /* unfitted */\n",
              "  background-color: var(--sklearn-color-unfitted-level-0);\n",
              "}\n",
              "\n",
              "#sk-container-id-6 div.sk-toggleable__content.fitted {\n",
              "  /* fitted */\n",
              "  background-color: var(--sklearn-color-fitted-level-0);\n",
              "}\n",
              "\n",
              "#sk-container-id-6 div.sk-toggleable__content pre {\n",
              "  margin: 0.2em;\n",
              "  border-radius: 0.25em;\n",
              "  color: var(--sklearn-color-text);\n",
              "  /* unfitted */\n",
              "  background-color: var(--sklearn-color-unfitted-level-0);\n",
              "}\n",
              "\n",
              "#sk-container-id-6 div.sk-toggleable__content.fitted pre {\n",
              "  /* unfitted */\n",
              "  background-color: var(--sklearn-color-fitted-level-0);\n",
              "}\n",
              "\n",
              "#sk-container-id-6 input.sk-toggleable__control:checked~div.sk-toggleable__content {\n",
              "  /* Expand drop-down */\n",
              "  max-height: 200px;\n",
              "  max-width: 100%;\n",
              "  overflow: auto;\n",
              "}\n",
              "\n",
              "#sk-container-id-6 input.sk-toggleable__control:checked~label.sk-toggleable__label-arrow:before {\n",
              "  content: \"▾\";\n",
              "}\n",
              "\n",
              "/* Pipeline/ColumnTransformer-specific style */\n",
              "\n",
              "#sk-container-id-6 div.sk-label input.sk-toggleable__control:checked~label.sk-toggleable__label {\n",
              "  color: var(--sklearn-color-text);\n",
              "  background-color: var(--sklearn-color-unfitted-level-2);\n",
              "}\n",
              "\n",
              "#sk-container-id-6 div.sk-label.fitted input.sk-toggleable__control:checked~label.sk-toggleable__label {\n",
              "  background-color: var(--sklearn-color-fitted-level-2);\n",
              "}\n",
              "\n",
              "/* Estimator-specific style */\n",
              "\n",
              "/* Colorize estimator box */\n",
              "#sk-container-id-6 div.sk-estimator input.sk-toggleable__control:checked~label.sk-toggleable__label {\n",
              "  /* unfitted */\n",
              "  background-color: var(--sklearn-color-unfitted-level-2);\n",
              "}\n",
              "\n",
              "#sk-container-id-6 div.sk-estimator.fitted input.sk-toggleable__control:checked~label.sk-toggleable__label {\n",
              "  /* fitted */\n",
              "  background-color: var(--sklearn-color-fitted-level-2);\n",
              "}\n",
              "\n",
              "#sk-container-id-6 div.sk-label label.sk-toggleable__label,\n",
              "#sk-container-id-6 div.sk-label label {\n",
              "  /* The background is the default theme color */\n",
              "  color: var(--sklearn-color-text-on-default-background);\n",
              "}\n",
              "\n",
              "/* On hover, darken the color of the background */\n",
              "#sk-container-id-6 div.sk-label:hover label.sk-toggleable__label {\n",
              "  color: var(--sklearn-color-text);\n",
              "  background-color: var(--sklearn-color-unfitted-level-2);\n",
              "}\n",
              "\n",
              "/* Label box, darken color on hover, fitted */\n",
              "#sk-container-id-6 div.sk-label.fitted:hover label.sk-toggleable__label.fitted {\n",
              "  color: var(--sklearn-color-text);\n",
              "  background-color: var(--sklearn-color-fitted-level-2);\n",
              "}\n",
              "\n",
              "/* Estimator label */\n",
              "\n",
              "#sk-container-id-6 div.sk-label label {\n",
              "  font-family: monospace;\n",
              "  font-weight: bold;\n",
              "  display: inline-block;\n",
              "  line-height: 1.2em;\n",
              "}\n",
              "\n",
              "#sk-container-id-6 div.sk-label-container {\n",
              "  text-align: center;\n",
              "}\n",
              "\n",
              "/* Estimator-specific */\n",
              "#sk-container-id-6 div.sk-estimator {\n",
              "  font-family: monospace;\n",
              "  border: 1px dotted var(--sklearn-color-border-box);\n",
              "  border-radius: 0.25em;\n",
              "  box-sizing: border-box;\n",
              "  margin-bottom: 0.5em;\n",
              "  /* unfitted */\n",
              "  background-color: var(--sklearn-color-unfitted-level-0);\n",
              "}\n",
              "\n",
              "#sk-container-id-6 div.sk-estimator.fitted {\n",
              "  /* fitted */\n",
              "  background-color: var(--sklearn-color-fitted-level-0);\n",
              "}\n",
              "\n",
              "/* on hover */\n",
              "#sk-container-id-6 div.sk-estimator:hover {\n",
              "  /* unfitted */\n",
              "  background-color: var(--sklearn-color-unfitted-level-2);\n",
              "}\n",
              "\n",
              "#sk-container-id-6 div.sk-estimator.fitted:hover {\n",
              "  /* fitted */\n",
              "  background-color: var(--sklearn-color-fitted-level-2);\n",
              "}\n",
              "\n",
              "/* Specification for estimator info (e.g. \"i\" and \"?\") */\n",
              "\n",
              "/* Common style for \"i\" and \"?\" */\n",
              "\n",
              ".sk-estimator-doc-link,\n",
              "a:link.sk-estimator-doc-link,\n",
              "a:visited.sk-estimator-doc-link {\n",
              "  float: right;\n",
              "  font-size: smaller;\n",
              "  line-height: 1em;\n",
              "  font-family: monospace;\n",
              "  background-color: var(--sklearn-color-background);\n",
              "  border-radius: 1em;\n",
              "  height: 1em;\n",
              "  width: 1em;\n",
              "  text-decoration: none !important;\n",
              "  margin-left: 0.5em;\n",
              "  text-align: center;\n",
              "  /* unfitted */\n",
              "  border: var(--sklearn-color-unfitted-level-1) 1pt solid;\n",
              "  color: var(--sklearn-color-unfitted-level-1);\n",
              "}\n",
              "\n",
              ".sk-estimator-doc-link.fitted,\n",
              "a:link.sk-estimator-doc-link.fitted,\n",
              "a:visited.sk-estimator-doc-link.fitted {\n",
              "  /* fitted */\n",
              "  border: var(--sklearn-color-fitted-level-1) 1pt solid;\n",
              "  color: var(--sklearn-color-fitted-level-1);\n",
              "}\n",
              "\n",
              "/* On hover */\n",
              "div.sk-estimator:hover .sk-estimator-doc-link:hover,\n",
              ".sk-estimator-doc-link:hover,\n",
              "div.sk-label-container:hover .sk-estimator-doc-link:hover,\n",
              ".sk-estimator-doc-link:hover {\n",
              "  /* unfitted */\n",
              "  background-color: var(--sklearn-color-unfitted-level-3);\n",
              "  color: var(--sklearn-color-background);\n",
              "  text-decoration: none;\n",
              "}\n",
              "\n",
              "div.sk-estimator.fitted:hover .sk-estimator-doc-link.fitted:hover,\n",
              ".sk-estimator-doc-link.fitted:hover,\n",
              "div.sk-label-container:hover .sk-estimator-doc-link.fitted:hover,\n",
              ".sk-estimator-doc-link.fitted:hover {\n",
              "  /* fitted */\n",
              "  background-color: var(--sklearn-color-fitted-level-3);\n",
              "  color: var(--sklearn-color-background);\n",
              "  text-decoration: none;\n",
              "}\n",
              "\n",
              "/* Span, style for the box shown on hovering the info icon */\n",
              ".sk-estimator-doc-link span {\n",
              "  display: none;\n",
              "  z-index: 9999;\n",
              "  position: relative;\n",
              "  font-weight: normal;\n",
              "  right: .2ex;\n",
              "  padding: .5ex;\n",
              "  margin: .5ex;\n",
              "  width: min-content;\n",
              "  min-width: 20ex;\n",
              "  max-width: 50ex;\n",
              "  color: var(--sklearn-color-text);\n",
              "  box-shadow: 2pt 2pt 4pt #999;\n",
              "  /* unfitted */\n",
              "  background: var(--sklearn-color-unfitted-level-0);\n",
              "  border: .5pt solid var(--sklearn-color-unfitted-level-3);\n",
              "}\n",
              "\n",
              ".sk-estimator-doc-link.fitted span {\n",
              "  /* fitted */\n",
              "  background: var(--sklearn-color-fitted-level-0);\n",
              "  border: var(--sklearn-color-fitted-level-3);\n",
              "}\n",
              "\n",
              ".sk-estimator-doc-link:hover span {\n",
              "  display: block;\n",
              "}\n",
              "\n",
              "/* \"?\"-specific style due to the `<a>` HTML tag */\n",
              "\n",
              "#sk-container-id-6 a.estimator_doc_link {\n",
              "  float: right;\n",
              "  font-size: 1rem;\n",
              "  line-height: 1em;\n",
              "  font-family: monospace;\n",
              "  background-color: var(--sklearn-color-background);\n",
              "  border-radius: 1rem;\n",
              "  height: 1rem;\n",
              "  width: 1rem;\n",
              "  text-decoration: none;\n",
              "  /* unfitted */\n",
              "  color: var(--sklearn-color-unfitted-level-1);\n",
              "  border: var(--sklearn-color-unfitted-level-1) 1pt solid;\n",
              "}\n",
              "\n",
              "#sk-container-id-6 a.estimator_doc_link.fitted {\n",
              "  /* fitted */\n",
              "  border: var(--sklearn-color-fitted-level-1) 1pt solid;\n",
              "  color: var(--sklearn-color-fitted-level-1);\n",
              "}\n",
              "\n",
              "/* On hover */\n",
              "#sk-container-id-6 a.estimator_doc_link:hover {\n",
              "  /* unfitted */\n",
              "  background-color: var(--sklearn-color-unfitted-level-3);\n",
              "  color: var(--sklearn-color-background);\n",
              "  text-decoration: none;\n",
              "}\n",
              "\n",
              "#sk-container-id-6 a.estimator_doc_link.fitted:hover {\n",
              "  /* fitted */\n",
              "  background-color: var(--sklearn-color-fitted-level-3);\n",
              "}\n",
              "</style><div id=\"sk-container-id-6\" class=\"sk-top-container\"><div class=\"sk-text-repr-fallback\"><pre>Pipeline(steps=[(&#x27;preprocessor&#x27;,\n",
              "                 ColumnTransformer(transformers=[(&#x27;num&#x27;, StandardScaler(),\n",
              "                                                  Index([&#x27;Elevation&#x27;, &#x27;Aspect&#x27;, &#x27;Slope&#x27;, &#x27;Dist_to_Hydro&#x27;, &#x27;Dist_to_Road&#x27;], dtype=&#x27;object&#x27;)),\n",
              "                                                 (&#x27;cat&#x27;,\n",
              "                                                  OneHotEncoder(handle_unknown=&#x27;ignore&#x27;),\n",
              "                                                  Index([&#x27;Wilderness_Area&#x27;, &#x27;Soil_Type&#x27;], dtype=&#x27;object&#x27;))])),\n",
              "                (&#x27;classifier&#x27;, RandomForestClassifier(random_state=42))])</pre><b>In a Jupyter environment, please rerun this cell to show the HTML representation or trust the notebook. <br />On GitHub, the HTML representation is unable to render, please try loading this page with nbviewer.org.</b></div><div class=\"sk-container\" hidden><div class=\"sk-item sk-dashed-wrapped\"><div class=\"sk-label-container\"><div class=\"sk-label fitted sk-toggleable\"><input class=\"sk-toggleable__control sk-hidden--visually\" id=\"sk-estimator-id-38\" type=\"checkbox\" ><label for=\"sk-estimator-id-38\" class=\"sk-toggleable__label fitted sk-toggleable__label-arrow\"><div><div>Pipeline</div></div><div><a class=\"sk-estimator-doc-link fitted\" rel=\"noreferrer\" target=\"_blank\" href=\"https://scikit-learn.org/1.6/modules/generated/sklearn.pipeline.Pipeline.html\">?<span>Documentation for Pipeline</span></a><span class=\"sk-estimator-doc-link fitted\">i<span>Fitted</span></span></div></label><div class=\"sk-toggleable__content fitted\"><pre>Pipeline(steps=[(&#x27;preprocessor&#x27;,\n",
              "                 ColumnTransformer(transformers=[(&#x27;num&#x27;, StandardScaler(),\n",
              "                                                  Index([&#x27;Elevation&#x27;, &#x27;Aspect&#x27;, &#x27;Slope&#x27;, &#x27;Dist_to_Hydro&#x27;, &#x27;Dist_to_Road&#x27;], dtype=&#x27;object&#x27;)),\n",
              "                                                 (&#x27;cat&#x27;,\n",
              "                                                  OneHotEncoder(handle_unknown=&#x27;ignore&#x27;),\n",
              "                                                  Index([&#x27;Wilderness_Area&#x27;, &#x27;Soil_Type&#x27;], dtype=&#x27;object&#x27;))])),\n",
              "                (&#x27;classifier&#x27;, RandomForestClassifier(random_state=42))])</pre></div> </div></div><div class=\"sk-serial\"><div class=\"sk-item sk-dashed-wrapped\"><div class=\"sk-label-container\"><div class=\"sk-label fitted sk-toggleable\"><input class=\"sk-toggleable__control sk-hidden--visually\" id=\"sk-estimator-id-39\" type=\"checkbox\" ><label for=\"sk-estimator-id-39\" class=\"sk-toggleable__label fitted sk-toggleable__label-arrow\"><div><div>preprocessor: ColumnTransformer</div></div><div><a class=\"sk-estimator-doc-link fitted\" rel=\"noreferrer\" target=\"_blank\" href=\"https://scikit-learn.org/1.6/modules/generated/sklearn.compose.ColumnTransformer.html\">?<span>Documentation for preprocessor: ColumnTransformer</span></a></div></label><div class=\"sk-toggleable__content fitted\"><pre>ColumnTransformer(transformers=[(&#x27;num&#x27;, StandardScaler(),\n",
              "                                 Index([&#x27;Elevation&#x27;, &#x27;Aspect&#x27;, &#x27;Slope&#x27;, &#x27;Dist_to_Hydro&#x27;, &#x27;Dist_to_Road&#x27;], dtype=&#x27;object&#x27;)),\n",
              "                                (&#x27;cat&#x27;, OneHotEncoder(handle_unknown=&#x27;ignore&#x27;),\n",
              "                                 Index([&#x27;Wilderness_Area&#x27;, &#x27;Soil_Type&#x27;], dtype=&#x27;object&#x27;))])</pre></div> </div></div><div class=\"sk-parallel\"><div class=\"sk-parallel-item\"><div class=\"sk-item\"><div class=\"sk-label-container\"><div class=\"sk-label fitted sk-toggleable\"><input class=\"sk-toggleable__control sk-hidden--visually\" id=\"sk-estimator-id-40\" type=\"checkbox\" ><label for=\"sk-estimator-id-40\" class=\"sk-toggleable__label fitted sk-toggleable__label-arrow\"><div><div>num</div></div></label><div class=\"sk-toggleable__content fitted\"><pre>Index([&#x27;Elevation&#x27;, &#x27;Aspect&#x27;, &#x27;Slope&#x27;, &#x27;Dist_to_Hydro&#x27;, &#x27;Dist_to_Road&#x27;], dtype=&#x27;object&#x27;)</pre></div> </div></div><div class=\"sk-serial\"><div class=\"sk-item\"><div class=\"sk-estimator fitted sk-toggleable\"><input class=\"sk-toggleable__control sk-hidden--visually\" id=\"sk-estimator-id-41\" type=\"checkbox\" ><label for=\"sk-estimator-id-41\" class=\"sk-toggleable__label fitted sk-toggleable__label-arrow\"><div><div>StandardScaler</div></div><div><a class=\"sk-estimator-doc-link fitted\" rel=\"noreferrer\" target=\"_blank\" href=\"https://scikit-learn.org/1.6/modules/generated/sklearn.preprocessing.StandardScaler.html\">?<span>Documentation for StandardScaler</span></a></div></label><div class=\"sk-toggleable__content fitted\"><pre>StandardScaler()</pre></div> </div></div></div></div></div><div class=\"sk-parallel-item\"><div class=\"sk-item\"><div class=\"sk-label-container\"><div class=\"sk-label fitted sk-toggleable\"><input class=\"sk-toggleable__control sk-hidden--visually\" id=\"sk-estimator-id-42\" type=\"checkbox\" ><label for=\"sk-estimator-id-42\" class=\"sk-toggleable__label fitted sk-toggleable__label-arrow\"><div><div>cat</div></div></label><div class=\"sk-toggleable__content fitted\"><pre>Index([&#x27;Wilderness_Area&#x27;, &#x27;Soil_Type&#x27;], dtype=&#x27;object&#x27;)</pre></div> </div></div><div class=\"sk-serial\"><div class=\"sk-item\"><div class=\"sk-estimator fitted sk-toggleable\"><input class=\"sk-toggleable__control sk-hidden--visually\" id=\"sk-estimator-id-43\" type=\"checkbox\" ><label for=\"sk-estimator-id-43\" class=\"sk-toggleable__label fitted sk-toggleable__label-arrow\"><div><div>OneHotEncoder</div></div><div><a class=\"sk-estimator-doc-link fitted\" rel=\"noreferrer\" target=\"_blank\" href=\"https://scikit-learn.org/1.6/modules/generated/sklearn.preprocessing.OneHotEncoder.html\">?<span>Documentation for OneHotEncoder</span></a></div></label><div class=\"sk-toggleable__content fitted\"><pre>OneHotEncoder(handle_unknown=&#x27;ignore&#x27;)</pre></div> </div></div></div></div></div></div></div><div class=\"sk-item\"><div class=\"sk-estimator fitted sk-toggleable\"><input class=\"sk-toggleable__control sk-hidden--visually\" id=\"sk-estimator-id-44\" type=\"checkbox\" ><label for=\"sk-estimator-id-44\" class=\"sk-toggleable__label fitted sk-toggleable__label-arrow\"><div><div>RandomForestClassifier</div></div><div><a class=\"sk-estimator-doc-link fitted\" rel=\"noreferrer\" target=\"_blank\" href=\"https://scikit-learn.org/1.6/modules/generated/sklearn.ensemble.RandomForestClassifier.html\">?<span>Documentation for RandomForestClassifier</span></a></div></label><div class=\"sk-toggleable__content fitted\"><pre>RandomForestClassifier(random_state=42)</pre></div> </div></div></div></div></div></div>"
            ]
          },
          "metadata": {},
          "execution_count": 50
        }
      ]
    },
    {
      "cell_type": "markdown",
      "source": [
        "Make predictions on the test set"
      ],
      "metadata": {
        "id": "P7_-vEcUhSv2"
      }
    },
    {
      "cell_type": "code",
      "source": [
        "y_pred_rf = rf_pipeline.predict(X_test)"
      ],
      "metadata": {
        "id": "tzGfB71DhVZA"
      },
      "execution_count": 51,
      "outputs": []
    },
    {
      "cell_type": "markdown",
      "source": [
        " Evaluate the model"
      ],
      "metadata": {
        "id": "vGSlxtbRhX28"
      }
    },
    {
      "cell_type": "code",
      "source": [
        "print(\"\\nRandom Forest Classification Report:\")\n",
        "print(classification_report(y_test, y_pred_rf))\n"
      ],
      "metadata": {
        "colab": {
          "base_uri": "https://localhost:8080/"
        },
        "id": "HlhGnu2Chcjf",
        "outputId": "1fad1760-7b0c-4103-9125-6848de11ec91"
      },
      "execution_count": 52,
      "outputs": [
        {
          "output_type": "stream",
          "name": "stdout",
          "text": [
            "\n",
            "Random Forest Classification Report:\n",
            "              precision    recall  f1-score   support\n",
            "\n",
            "           0       0.88      1.00      0.94        98\n",
            "           1       0.97      0.94      0.95        31\n",
            "           2       0.89      0.96      0.93        53\n",
            "           3       1.00      0.17      0.29         6\n",
            "           4       1.00      0.71      0.83        17\n",
            "           5       1.00      0.70      0.82        20\n",
            "           6       1.00      1.00      1.00        25\n",
            "\n",
            "    accuracy                           0.92       250\n",
            "   macro avg       0.96      0.78      0.82       250\n",
            "weighted avg       0.93      0.92      0.91       250\n",
            "\n"
          ]
        }
      ]
    },
    {
      "cell_type": "markdown",
      "source": [
        "Model 2: XGBoost Classifier"
      ],
      "metadata": {
        "id": "EV-DYVG7hhzv"
      }
    },
    {
      "cell_type": "code",
      "source": [
        "print(\"\\n--- Training XGBoost Classifier ---\")"
      ],
      "metadata": {
        "colab": {
          "base_uri": "https://localhost:8080/"
        },
        "id": "A0lA6TXNhpgM",
        "outputId": "def4b826-5e98-4b92-a410-3b22eda849cd"
      },
      "execution_count": 53,
      "outputs": [
        {
          "output_type": "stream",
          "name": "stdout",
          "text": [
            "\n",
            "--- Training XGBoost Classifier ---\n"
          ]
        }
      ]
    },
    {
      "cell_type": "markdown",
      "source": [
        "XGBoost requires categorical features to be pre-processed before training\n",
        "We'll use a separate pipeline for it."
      ],
      "metadata": {
        "id": "P4kt0Ixuhs9w"
      }
    },
    {
      "cell_type": "code",
      "source": [
        "xgb_pipeline = Pipeline(steps=[\n",
        "    ('preprocessor', preprocessor),\n",
        "    ('classifier', XGBClassifier(n_estimators=100, eval_metric='mlogloss', random_state=42))\n",
        "])"
      ],
      "metadata": {
        "id": "xJXA4uOUhzZ_"
      },
      "execution_count": 54,
      "outputs": []
    },
    {
      "cell_type": "markdown",
      "source": [
        "Fit the model"
      ],
      "metadata": {
        "id": "XVD0lzLrh0g_"
      }
    },
    {
      "cell_type": "code",
      "source": [
        "xgb_pipeline.fit(X_train, y_train)"
      ],
      "metadata": {
        "colab": {
          "base_uri": "https://localhost:8080/",
          "height": 246
        },
        "id": "b8ukn6TVh3oU",
        "outputId": "16e2e420-f32f-4faf-86ff-37c26e732ba2"
      },
      "execution_count": 55,
      "outputs": [
        {
          "output_type": "execute_result",
          "data": {
            "text/plain": [
              "Pipeline(steps=[('preprocessor',\n",
              "                 ColumnTransformer(transformers=[('num', StandardScaler(),\n",
              "                                                  Index(['Elevation', 'Aspect', 'Slope', 'Dist_to_Hydro', 'Dist_to_Road'], dtype='object')),\n",
              "                                                 ('cat',\n",
              "                                                  OneHotEncoder(handle_unknown='ignore'),\n",
              "                                                  Index(['Wilderness_Area', 'Soil_Type'], dtype='object'))])),\n",
              "                ('classifier',\n",
              "                 XGBClassifier(base_score=None, booster=None, callbacks=None,\n",
              "                               c...\n",
              "                               feature_types=None, feature_weights=None,\n",
              "                               gamma=None, grow_policy=None,\n",
              "                               importance_type=None,\n",
              "                               interaction_constraints=None, learning_rate=None,\n",
              "                               max_bin=None, max_cat_threshold=None,\n",
              "                               max_cat_to_onehot=None, max_delta_step=None,\n",
              "                               max_depth=None, max_leaves=None,\n",
              "                               min_child_weight=None, missing=nan,\n",
              "                               monotone_constraints=None, multi_strategy=None,\n",
              "                               n_estimators=100, n_jobs=None,\n",
              "                               num_parallel_tree=None, ...))])"
            ],
            "text/html": [
              "<style>#sk-container-id-7 {\n",
              "  /* Definition of color scheme common for light and dark mode */\n",
              "  --sklearn-color-text: #000;\n",
              "  --sklearn-color-text-muted: #666;\n",
              "  --sklearn-color-line: gray;\n",
              "  /* Definition of color scheme for unfitted estimators */\n",
              "  --sklearn-color-unfitted-level-0: #fff5e6;\n",
              "  --sklearn-color-unfitted-level-1: #f6e4d2;\n",
              "  --sklearn-color-unfitted-level-2: #ffe0b3;\n",
              "  --sklearn-color-unfitted-level-3: chocolate;\n",
              "  /* Definition of color scheme for fitted estimators */\n",
              "  --sklearn-color-fitted-level-0: #f0f8ff;\n",
              "  --sklearn-color-fitted-level-1: #d4ebff;\n",
              "  --sklearn-color-fitted-level-2: #b3dbfd;\n",
              "  --sklearn-color-fitted-level-3: cornflowerblue;\n",
              "\n",
              "  /* Specific color for light theme */\n",
              "  --sklearn-color-text-on-default-background: var(--sg-text-color, var(--theme-code-foreground, var(--jp-content-font-color1, black)));\n",
              "  --sklearn-color-background: var(--sg-background-color, var(--theme-background, var(--jp-layout-color0, white)));\n",
              "  --sklearn-color-border-box: var(--sg-text-color, var(--theme-code-foreground, var(--jp-content-font-color1, black)));\n",
              "  --sklearn-color-icon: #696969;\n",
              "\n",
              "  @media (prefers-color-scheme: dark) {\n",
              "    /* Redefinition of color scheme for dark theme */\n",
              "    --sklearn-color-text-on-default-background: var(--sg-text-color, var(--theme-code-foreground, var(--jp-content-font-color1, white)));\n",
              "    --sklearn-color-background: var(--sg-background-color, var(--theme-background, var(--jp-layout-color0, #111)));\n",
              "    --sklearn-color-border-box: var(--sg-text-color, var(--theme-code-foreground, var(--jp-content-font-color1, white)));\n",
              "    --sklearn-color-icon: #878787;\n",
              "  }\n",
              "}\n",
              "\n",
              "#sk-container-id-7 {\n",
              "  color: var(--sklearn-color-text);\n",
              "}\n",
              "\n",
              "#sk-container-id-7 pre {\n",
              "  padding: 0;\n",
              "}\n",
              "\n",
              "#sk-container-id-7 input.sk-hidden--visually {\n",
              "  border: 0;\n",
              "  clip: rect(1px 1px 1px 1px);\n",
              "  clip: rect(1px, 1px, 1px, 1px);\n",
              "  height: 1px;\n",
              "  margin: -1px;\n",
              "  overflow: hidden;\n",
              "  padding: 0;\n",
              "  position: absolute;\n",
              "  width: 1px;\n",
              "}\n",
              "\n",
              "#sk-container-id-7 div.sk-dashed-wrapped {\n",
              "  border: 1px dashed var(--sklearn-color-line);\n",
              "  margin: 0 0.4em 0.5em 0.4em;\n",
              "  box-sizing: border-box;\n",
              "  padding-bottom: 0.4em;\n",
              "  background-color: var(--sklearn-color-background);\n",
              "}\n",
              "\n",
              "#sk-container-id-7 div.sk-container {\n",
              "  /* jupyter's `normalize.less` sets `[hidden] { display: none; }`\n",
              "     but bootstrap.min.css set `[hidden] { display: none !important; }`\n",
              "     so we also need the `!important` here to be able to override the\n",
              "     default hidden behavior on the sphinx rendered scikit-learn.org.\n",
              "     See: https://github.com/scikit-learn/scikit-learn/issues/21755 */\n",
              "  display: inline-block !important;\n",
              "  position: relative;\n",
              "}\n",
              "\n",
              "#sk-container-id-7 div.sk-text-repr-fallback {\n",
              "  display: none;\n",
              "}\n",
              "\n",
              "div.sk-parallel-item,\n",
              "div.sk-serial,\n",
              "div.sk-item {\n",
              "  /* draw centered vertical line to link estimators */\n",
              "  background-image: linear-gradient(var(--sklearn-color-text-on-default-background), var(--sklearn-color-text-on-default-background));\n",
              "  background-size: 2px 100%;\n",
              "  background-repeat: no-repeat;\n",
              "  background-position: center center;\n",
              "}\n",
              "\n",
              "/* Parallel-specific style estimator block */\n",
              "\n",
              "#sk-container-id-7 div.sk-parallel-item::after {\n",
              "  content: \"\";\n",
              "  width: 100%;\n",
              "  border-bottom: 2px solid var(--sklearn-color-text-on-default-background);\n",
              "  flex-grow: 1;\n",
              "}\n",
              "\n",
              "#sk-container-id-7 div.sk-parallel {\n",
              "  display: flex;\n",
              "  align-items: stretch;\n",
              "  justify-content: center;\n",
              "  background-color: var(--sklearn-color-background);\n",
              "  position: relative;\n",
              "}\n",
              "\n",
              "#sk-container-id-7 div.sk-parallel-item {\n",
              "  display: flex;\n",
              "  flex-direction: column;\n",
              "}\n",
              "\n",
              "#sk-container-id-7 div.sk-parallel-item:first-child::after {\n",
              "  align-self: flex-end;\n",
              "  width: 50%;\n",
              "}\n",
              "\n",
              "#sk-container-id-7 div.sk-parallel-item:last-child::after {\n",
              "  align-self: flex-start;\n",
              "  width: 50%;\n",
              "}\n",
              "\n",
              "#sk-container-id-7 div.sk-parallel-item:only-child::after {\n",
              "  width: 0;\n",
              "}\n",
              "\n",
              "/* Serial-specific style estimator block */\n",
              "\n",
              "#sk-container-id-7 div.sk-serial {\n",
              "  display: flex;\n",
              "  flex-direction: column;\n",
              "  align-items: center;\n",
              "  background-color: var(--sklearn-color-background);\n",
              "  padding-right: 1em;\n",
              "  padding-left: 1em;\n",
              "}\n",
              "\n",
              "\n",
              "/* Toggleable style: style used for estimator/Pipeline/ColumnTransformer box that is\n",
              "clickable and can be expanded/collapsed.\n",
              "- Pipeline and ColumnTransformer use this feature and define the default style\n",
              "- Estimators will overwrite some part of the style using the `sk-estimator` class\n",
              "*/\n",
              "\n",
              "/* Pipeline and ColumnTransformer style (default) */\n",
              "\n",
              "#sk-container-id-7 div.sk-toggleable {\n",
              "  /* Default theme specific background. It is overwritten whether we have a\n",
              "  specific estimator or a Pipeline/ColumnTransformer */\n",
              "  background-color: var(--sklearn-color-background);\n",
              "}\n",
              "\n",
              "/* Toggleable label */\n",
              "#sk-container-id-7 label.sk-toggleable__label {\n",
              "  cursor: pointer;\n",
              "  display: flex;\n",
              "  width: 100%;\n",
              "  margin-bottom: 0;\n",
              "  padding: 0.5em;\n",
              "  box-sizing: border-box;\n",
              "  text-align: center;\n",
              "  align-items: start;\n",
              "  justify-content: space-between;\n",
              "  gap: 0.5em;\n",
              "}\n",
              "\n",
              "#sk-container-id-7 label.sk-toggleable__label .caption {\n",
              "  font-size: 0.6rem;\n",
              "  font-weight: lighter;\n",
              "  color: var(--sklearn-color-text-muted);\n",
              "}\n",
              "\n",
              "#sk-container-id-7 label.sk-toggleable__label-arrow:before {\n",
              "  /* Arrow on the left of the label */\n",
              "  content: \"▸\";\n",
              "  float: left;\n",
              "  margin-right: 0.25em;\n",
              "  color: var(--sklearn-color-icon);\n",
              "}\n",
              "\n",
              "#sk-container-id-7 label.sk-toggleable__label-arrow:hover:before {\n",
              "  color: var(--sklearn-color-text);\n",
              "}\n",
              "\n",
              "/* Toggleable content - dropdown */\n",
              "\n",
              "#sk-container-id-7 div.sk-toggleable__content {\n",
              "  max-height: 0;\n",
              "  max-width: 0;\n",
              "  overflow: hidden;\n",
              "  text-align: left;\n",
              "  /* unfitted */\n",
              "  background-color: var(--sklearn-color-unfitted-level-0);\n",
              "}\n",
              "\n",
              "#sk-container-id-7 div.sk-toggleable__content.fitted {\n",
              "  /* fitted */\n",
              "  background-color: var(--sklearn-color-fitted-level-0);\n",
              "}\n",
              "\n",
              "#sk-container-id-7 div.sk-toggleable__content pre {\n",
              "  margin: 0.2em;\n",
              "  border-radius: 0.25em;\n",
              "  color: var(--sklearn-color-text);\n",
              "  /* unfitted */\n",
              "  background-color: var(--sklearn-color-unfitted-level-0);\n",
              "}\n",
              "\n",
              "#sk-container-id-7 div.sk-toggleable__content.fitted pre {\n",
              "  /* unfitted */\n",
              "  background-color: var(--sklearn-color-fitted-level-0);\n",
              "}\n",
              "\n",
              "#sk-container-id-7 input.sk-toggleable__control:checked~div.sk-toggleable__content {\n",
              "  /* Expand drop-down */\n",
              "  max-height: 200px;\n",
              "  max-width: 100%;\n",
              "  overflow: auto;\n",
              "}\n",
              "\n",
              "#sk-container-id-7 input.sk-toggleable__control:checked~label.sk-toggleable__label-arrow:before {\n",
              "  content: \"▾\";\n",
              "}\n",
              "\n",
              "/* Pipeline/ColumnTransformer-specific style */\n",
              "\n",
              "#sk-container-id-7 div.sk-label input.sk-toggleable__control:checked~label.sk-toggleable__label {\n",
              "  color: var(--sklearn-color-text);\n",
              "  background-color: var(--sklearn-color-unfitted-level-2);\n",
              "}\n",
              "\n",
              "#sk-container-id-7 div.sk-label.fitted input.sk-toggleable__control:checked~label.sk-toggleable__label {\n",
              "  background-color: var(--sklearn-color-fitted-level-2);\n",
              "}\n",
              "\n",
              "/* Estimator-specific style */\n",
              "\n",
              "/* Colorize estimator box */\n",
              "#sk-container-id-7 div.sk-estimator input.sk-toggleable__control:checked~label.sk-toggleable__label {\n",
              "  /* unfitted */\n",
              "  background-color: var(--sklearn-color-unfitted-level-2);\n",
              "}\n",
              "\n",
              "#sk-container-id-7 div.sk-estimator.fitted input.sk-toggleable__control:checked~label.sk-toggleable__label {\n",
              "  /* fitted */\n",
              "  background-color: var(--sklearn-color-fitted-level-2);\n",
              "}\n",
              "\n",
              "#sk-container-id-7 div.sk-label label.sk-toggleable__label,\n",
              "#sk-container-id-7 div.sk-label label {\n",
              "  /* The background is the default theme color */\n",
              "  color: var(--sklearn-color-text-on-default-background);\n",
              "}\n",
              "\n",
              "/* On hover, darken the color of the background */\n",
              "#sk-container-id-7 div.sk-label:hover label.sk-toggleable__label {\n",
              "  color: var(--sklearn-color-text);\n",
              "  background-color: var(--sklearn-color-unfitted-level-2);\n",
              "}\n",
              "\n",
              "/* Label box, darken color on hover, fitted */\n",
              "#sk-container-id-7 div.sk-label.fitted:hover label.sk-toggleable__label.fitted {\n",
              "  color: var(--sklearn-color-text);\n",
              "  background-color: var(--sklearn-color-fitted-level-2);\n",
              "}\n",
              "\n",
              "/* Estimator label */\n",
              "\n",
              "#sk-container-id-7 div.sk-label label {\n",
              "  font-family: monospace;\n",
              "  font-weight: bold;\n",
              "  display: inline-block;\n",
              "  line-height: 1.2em;\n",
              "}\n",
              "\n",
              "#sk-container-id-7 div.sk-label-container {\n",
              "  text-align: center;\n",
              "}\n",
              "\n",
              "/* Estimator-specific */\n",
              "#sk-container-id-7 div.sk-estimator {\n",
              "  font-family: monospace;\n",
              "  border: 1px dotted var(--sklearn-color-border-box);\n",
              "  border-radius: 0.25em;\n",
              "  box-sizing: border-box;\n",
              "  margin-bottom: 0.5em;\n",
              "  /* unfitted */\n",
              "  background-color: var(--sklearn-color-unfitted-level-0);\n",
              "}\n",
              "\n",
              "#sk-container-id-7 div.sk-estimator.fitted {\n",
              "  /* fitted */\n",
              "  background-color: var(--sklearn-color-fitted-level-0);\n",
              "}\n",
              "\n",
              "/* on hover */\n",
              "#sk-container-id-7 div.sk-estimator:hover {\n",
              "  /* unfitted */\n",
              "  background-color: var(--sklearn-color-unfitted-level-2);\n",
              "}\n",
              "\n",
              "#sk-container-id-7 div.sk-estimator.fitted:hover {\n",
              "  /* fitted */\n",
              "  background-color: var(--sklearn-color-fitted-level-2);\n",
              "}\n",
              "\n",
              "/* Specification for estimator info (e.g. \"i\" and \"?\") */\n",
              "\n",
              "/* Common style for \"i\" and \"?\" */\n",
              "\n",
              ".sk-estimator-doc-link,\n",
              "a:link.sk-estimator-doc-link,\n",
              "a:visited.sk-estimator-doc-link {\n",
              "  float: right;\n",
              "  font-size: smaller;\n",
              "  line-height: 1em;\n",
              "  font-family: monospace;\n",
              "  background-color: var(--sklearn-color-background);\n",
              "  border-radius: 1em;\n",
              "  height: 1em;\n",
              "  width: 1em;\n",
              "  text-decoration: none !important;\n",
              "  margin-left: 0.5em;\n",
              "  text-align: center;\n",
              "  /* unfitted */\n",
              "  border: var(--sklearn-color-unfitted-level-1) 1pt solid;\n",
              "  color: var(--sklearn-color-unfitted-level-1);\n",
              "}\n",
              "\n",
              ".sk-estimator-doc-link.fitted,\n",
              "a:link.sk-estimator-doc-link.fitted,\n",
              "a:visited.sk-estimator-doc-link.fitted {\n",
              "  /* fitted */\n",
              "  border: var(--sklearn-color-fitted-level-1) 1pt solid;\n",
              "  color: var(--sklearn-color-fitted-level-1);\n",
              "}\n",
              "\n",
              "/* On hover */\n",
              "div.sk-estimator:hover .sk-estimator-doc-link:hover,\n",
              ".sk-estimator-doc-link:hover,\n",
              "div.sk-label-container:hover .sk-estimator-doc-link:hover,\n",
              ".sk-estimator-doc-link:hover {\n",
              "  /* unfitted */\n",
              "  background-color: var(--sklearn-color-unfitted-level-3);\n",
              "  color: var(--sklearn-color-background);\n",
              "  text-decoration: none;\n",
              "}\n",
              "\n",
              "div.sk-estimator.fitted:hover .sk-estimator-doc-link.fitted:hover,\n",
              ".sk-estimator-doc-link.fitted:hover,\n",
              "div.sk-label-container:hover .sk-estimator-doc-link.fitted:hover,\n",
              ".sk-estimator-doc-link.fitted:hover {\n",
              "  /* fitted */\n",
              "  background-color: var(--sklearn-color-fitted-level-3);\n",
              "  color: var(--sklearn-color-background);\n",
              "  text-decoration: none;\n",
              "}\n",
              "\n",
              "/* Span, style for the box shown on hovering the info icon */\n",
              ".sk-estimator-doc-link span {\n",
              "  display: none;\n",
              "  z-index: 9999;\n",
              "  position: relative;\n",
              "  font-weight: normal;\n",
              "  right: .2ex;\n",
              "  padding: .5ex;\n",
              "  margin: .5ex;\n",
              "  width: min-content;\n",
              "  min-width: 20ex;\n",
              "  max-width: 50ex;\n",
              "  color: var(--sklearn-color-text);\n",
              "  box-shadow: 2pt 2pt 4pt #999;\n",
              "  /* unfitted */\n",
              "  background: var(--sklearn-color-unfitted-level-0);\n",
              "  border: .5pt solid var(--sklearn-color-unfitted-level-3);\n",
              "}\n",
              "\n",
              ".sk-estimator-doc-link.fitted span {\n",
              "  /* fitted */\n",
              "  background: var(--sklearn-color-fitted-level-0);\n",
              "  border: var(--sklearn-color-fitted-level-3);\n",
              "}\n",
              "\n",
              ".sk-estimator-doc-link:hover span {\n",
              "  display: block;\n",
              "}\n",
              "\n",
              "/* \"?\"-specific style due to the `<a>` HTML tag */\n",
              "\n",
              "#sk-container-id-7 a.estimator_doc_link {\n",
              "  float: right;\n",
              "  font-size: 1rem;\n",
              "  line-height: 1em;\n",
              "  font-family: monospace;\n",
              "  background-color: var(--sklearn-color-background);\n",
              "  border-radius: 1rem;\n",
              "  height: 1rem;\n",
              "  width: 1rem;\n",
              "  text-decoration: none;\n",
              "  /* unfitted */\n",
              "  color: var(--sklearn-color-unfitted-level-1);\n",
              "  border: var(--sklearn-color-unfitted-level-1) 1pt solid;\n",
              "}\n",
              "\n",
              "#sk-container-id-7 a.estimator_doc_link.fitted {\n",
              "  /* fitted */\n",
              "  border: var(--sklearn-color-fitted-level-1) 1pt solid;\n",
              "  color: var(--sklearn-color-fitted-level-1);\n",
              "}\n",
              "\n",
              "/* On hover */\n",
              "#sk-container-id-7 a.estimator_doc_link:hover {\n",
              "  /* unfitted */\n",
              "  background-color: var(--sklearn-color-unfitted-level-3);\n",
              "  color: var(--sklearn-color-background);\n",
              "  text-decoration: none;\n",
              "}\n",
              "\n",
              "#sk-container-id-7 a.estimator_doc_link.fitted:hover {\n",
              "  /* fitted */\n",
              "  background-color: var(--sklearn-color-fitted-level-3);\n",
              "}\n",
              "</style><div id=\"sk-container-id-7\" class=\"sk-top-container\"><div class=\"sk-text-repr-fallback\"><pre>Pipeline(steps=[(&#x27;preprocessor&#x27;,\n",
              "                 ColumnTransformer(transformers=[(&#x27;num&#x27;, StandardScaler(),\n",
              "                                                  Index([&#x27;Elevation&#x27;, &#x27;Aspect&#x27;, &#x27;Slope&#x27;, &#x27;Dist_to_Hydro&#x27;, &#x27;Dist_to_Road&#x27;], dtype=&#x27;object&#x27;)),\n",
              "                                                 (&#x27;cat&#x27;,\n",
              "                                                  OneHotEncoder(handle_unknown=&#x27;ignore&#x27;),\n",
              "                                                  Index([&#x27;Wilderness_Area&#x27;, &#x27;Soil_Type&#x27;], dtype=&#x27;object&#x27;))])),\n",
              "                (&#x27;classifier&#x27;,\n",
              "                 XGBClassifier(base_score=None, booster=None, callbacks=None,\n",
              "                               c...\n",
              "                               feature_types=None, feature_weights=None,\n",
              "                               gamma=None, grow_policy=None,\n",
              "                               importance_type=None,\n",
              "                               interaction_constraints=None, learning_rate=None,\n",
              "                               max_bin=None, max_cat_threshold=None,\n",
              "                               max_cat_to_onehot=None, max_delta_step=None,\n",
              "                               max_depth=None, max_leaves=None,\n",
              "                               min_child_weight=None, missing=nan,\n",
              "                               monotone_constraints=None, multi_strategy=None,\n",
              "                               n_estimators=100, n_jobs=None,\n",
              "                               num_parallel_tree=None, ...))])</pre><b>In a Jupyter environment, please rerun this cell to show the HTML representation or trust the notebook. <br />On GitHub, the HTML representation is unable to render, please try loading this page with nbviewer.org.</b></div><div class=\"sk-container\" hidden><div class=\"sk-item sk-dashed-wrapped\"><div class=\"sk-label-container\"><div class=\"sk-label fitted sk-toggleable\"><input class=\"sk-toggleable__control sk-hidden--visually\" id=\"sk-estimator-id-45\" type=\"checkbox\" ><label for=\"sk-estimator-id-45\" class=\"sk-toggleable__label fitted sk-toggleable__label-arrow\"><div><div>Pipeline</div></div><div><a class=\"sk-estimator-doc-link fitted\" rel=\"noreferrer\" target=\"_blank\" href=\"https://scikit-learn.org/1.6/modules/generated/sklearn.pipeline.Pipeline.html\">?<span>Documentation for Pipeline</span></a><span class=\"sk-estimator-doc-link fitted\">i<span>Fitted</span></span></div></label><div class=\"sk-toggleable__content fitted\"><pre>Pipeline(steps=[(&#x27;preprocessor&#x27;,\n",
              "                 ColumnTransformer(transformers=[(&#x27;num&#x27;, StandardScaler(),\n",
              "                                                  Index([&#x27;Elevation&#x27;, &#x27;Aspect&#x27;, &#x27;Slope&#x27;, &#x27;Dist_to_Hydro&#x27;, &#x27;Dist_to_Road&#x27;], dtype=&#x27;object&#x27;)),\n",
              "                                                 (&#x27;cat&#x27;,\n",
              "                                                  OneHotEncoder(handle_unknown=&#x27;ignore&#x27;),\n",
              "                                                  Index([&#x27;Wilderness_Area&#x27;, &#x27;Soil_Type&#x27;], dtype=&#x27;object&#x27;))])),\n",
              "                (&#x27;classifier&#x27;,\n",
              "                 XGBClassifier(base_score=None, booster=None, callbacks=None,\n",
              "                               c...\n",
              "                               feature_types=None, feature_weights=None,\n",
              "                               gamma=None, grow_policy=None,\n",
              "                               importance_type=None,\n",
              "                               interaction_constraints=None, learning_rate=None,\n",
              "                               max_bin=None, max_cat_threshold=None,\n",
              "                               max_cat_to_onehot=None, max_delta_step=None,\n",
              "                               max_depth=None, max_leaves=None,\n",
              "                               min_child_weight=None, missing=nan,\n",
              "                               monotone_constraints=None, multi_strategy=None,\n",
              "                               n_estimators=100, n_jobs=None,\n",
              "                               num_parallel_tree=None, ...))])</pre></div> </div></div><div class=\"sk-serial\"><div class=\"sk-item sk-dashed-wrapped\"><div class=\"sk-label-container\"><div class=\"sk-label fitted sk-toggleable\"><input class=\"sk-toggleable__control sk-hidden--visually\" id=\"sk-estimator-id-46\" type=\"checkbox\" ><label for=\"sk-estimator-id-46\" class=\"sk-toggleable__label fitted sk-toggleable__label-arrow\"><div><div>preprocessor: ColumnTransformer</div></div><div><a class=\"sk-estimator-doc-link fitted\" rel=\"noreferrer\" target=\"_blank\" href=\"https://scikit-learn.org/1.6/modules/generated/sklearn.compose.ColumnTransformer.html\">?<span>Documentation for preprocessor: ColumnTransformer</span></a></div></label><div class=\"sk-toggleable__content fitted\"><pre>ColumnTransformer(transformers=[(&#x27;num&#x27;, StandardScaler(),\n",
              "                                 Index([&#x27;Elevation&#x27;, &#x27;Aspect&#x27;, &#x27;Slope&#x27;, &#x27;Dist_to_Hydro&#x27;, &#x27;Dist_to_Road&#x27;], dtype=&#x27;object&#x27;)),\n",
              "                                (&#x27;cat&#x27;, OneHotEncoder(handle_unknown=&#x27;ignore&#x27;),\n",
              "                                 Index([&#x27;Wilderness_Area&#x27;, &#x27;Soil_Type&#x27;], dtype=&#x27;object&#x27;))])</pre></div> </div></div><div class=\"sk-parallel\"><div class=\"sk-parallel-item\"><div class=\"sk-item\"><div class=\"sk-label-container\"><div class=\"sk-label fitted sk-toggleable\"><input class=\"sk-toggleable__control sk-hidden--visually\" id=\"sk-estimator-id-47\" type=\"checkbox\" ><label for=\"sk-estimator-id-47\" class=\"sk-toggleable__label fitted sk-toggleable__label-arrow\"><div><div>num</div></div></label><div class=\"sk-toggleable__content fitted\"><pre>Index([&#x27;Elevation&#x27;, &#x27;Aspect&#x27;, &#x27;Slope&#x27;, &#x27;Dist_to_Hydro&#x27;, &#x27;Dist_to_Road&#x27;], dtype=&#x27;object&#x27;)</pre></div> </div></div><div class=\"sk-serial\"><div class=\"sk-item\"><div class=\"sk-estimator fitted sk-toggleable\"><input class=\"sk-toggleable__control sk-hidden--visually\" id=\"sk-estimator-id-48\" type=\"checkbox\" ><label for=\"sk-estimator-id-48\" class=\"sk-toggleable__label fitted sk-toggleable__label-arrow\"><div><div>StandardScaler</div></div><div><a class=\"sk-estimator-doc-link fitted\" rel=\"noreferrer\" target=\"_blank\" href=\"https://scikit-learn.org/1.6/modules/generated/sklearn.preprocessing.StandardScaler.html\">?<span>Documentation for StandardScaler</span></a></div></label><div class=\"sk-toggleable__content fitted\"><pre>StandardScaler()</pre></div> </div></div></div></div></div><div class=\"sk-parallel-item\"><div class=\"sk-item\"><div class=\"sk-label-container\"><div class=\"sk-label fitted sk-toggleable\"><input class=\"sk-toggleable__control sk-hidden--visually\" id=\"sk-estimator-id-49\" type=\"checkbox\" ><label for=\"sk-estimator-id-49\" class=\"sk-toggleable__label fitted sk-toggleable__label-arrow\"><div><div>cat</div></div></label><div class=\"sk-toggleable__content fitted\"><pre>Index([&#x27;Wilderness_Area&#x27;, &#x27;Soil_Type&#x27;], dtype=&#x27;object&#x27;)</pre></div> </div></div><div class=\"sk-serial\"><div class=\"sk-item\"><div class=\"sk-estimator fitted sk-toggleable\"><input class=\"sk-toggleable__control sk-hidden--visually\" id=\"sk-estimator-id-50\" type=\"checkbox\" ><label for=\"sk-estimator-id-50\" class=\"sk-toggleable__label fitted sk-toggleable__label-arrow\"><div><div>OneHotEncoder</div></div><div><a class=\"sk-estimator-doc-link fitted\" rel=\"noreferrer\" target=\"_blank\" href=\"https://scikit-learn.org/1.6/modules/generated/sklearn.preprocessing.OneHotEncoder.html\">?<span>Documentation for OneHotEncoder</span></a></div></label><div class=\"sk-toggleable__content fitted\"><pre>OneHotEncoder(handle_unknown=&#x27;ignore&#x27;)</pre></div> </div></div></div></div></div></div></div><div class=\"sk-item\"><div class=\"sk-estimator fitted sk-toggleable\"><input class=\"sk-toggleable__control sk-hidden--visually\" id=\"sk-estimator-id-51\" type=\"checkbox\" ><label for=\"sk-estimator-id-51\" class=\"sk-toggleable__label fitted sk-toggleable__label-arrow\"><div><div>XGBClassifier</div></div><div><a class=\"sk-estimator-doc-link fitted\" rel=\"noreferrer\" target=\"_blank\" href=\"https://xgboost.readthedocs.io/en/release_3.0.0/python/python_api.html#xgboost.XGBClassifier\">?<span>Documentation for XGBClassifier</span></a></div></label><div class=\"sk-toggleable__content fitted\"><pre>XGBClassifier(base_score=None, booster=None, callbacks=None,\n",
              "              colsample_bylevel=None, colsample_bynode=None,\n",
              "              colsample_bytree=None, device=None, early_stopping_rounds=None,\n",
              "              enable_categorical=False, eval_metric=&#x27;mlogloss&#x27;,\n",
              "              feature_types=None, feature_weights=None, gamma=None,\n",
              "              grow_policy=None, importance_type=None,\n",
              "              interaction_constraints=None, learning_rate=None, max_bin=None,\n",
              "              max_cat_threshold=None, max_cat_to_onehot=None,\n",
              "              max_delta_step=None, max_depth=None, max_leaves=None,\n",
              "              min_child_weight=None, missing=nan, monotone_constraints=None,\n",
              "              multi_strategy=None, n_estimators=100, n_jobs=None,\n",
              "              num_parallel_tree=None, ...)</pre></div> </div></div></div></div></div></div>"
            ]
          },
          "metadata": {},
          "execution_count": 55
        }
      ]
    },
    {
      "cell_type": "markdown",
      "source": [
        "Make predictions on the test set"
      ],
      "metadata": {
        "id": "wzFJdximh6p1"
      }
    },
    {
      "cell_type": "code",
      "source": [
        "y_pred_xgb = xgb_pipeline.predict(X_test)"
      ],
      "metadata": {
        "id": "NmMC-cyOh96m"
      },
      "execution_count": 56,
      "outputs": []
    },
    {
      "cell_type": "markdown",
      "source": [
        "Evaluate the model"
      ],
      "metadata": {
        "id": "lFyQZQ5BiBs2"
      }
    },
    {
      "cell_type": "code",
      "source": [
        "print(\"\\nXGBoost Classification Report:\")\n",
        "print(classification_report(y_test, y_pred_xgb))"
      ],
      "metadata": {
        "colab": {
          "base_uri": "https://localhost:8080/"
        },
        "id": "MKTJ4IoQh_8K",
        "outputId": "44ec5de5-40ed-4dec-f250-cf5854a38484"
      },
      "execution_count": 57,
      "outputs": [
        {
          "output_type": "stream",
          "name": "stdout",
          "text": [
            "\n",
            "XGBoost Classification Report:\n",
            "              precision    recall  f1-score   support\n",
            "\n",
            "           0       0.98      1.00      0.99        98\n",
            "           1       1.00      0.97      0.98        31\n",
            "           2       1.00      0.98      0.99        53\n",
            "           3       0.83      0.83      0.83         6\n",
            "           4       1.00      1.00      1.00        17\n",
            "           5       1.00      1.00      1.00        20\n",
            "           6       1.00      1.00      1.00        25\n",
            "\n",
            "    accuracy                           0.99       250\n",
            "   macro avg       0.97      0.97      0.97       250\n",
            "weighted avg       0.99      0.99      0.99       250\n",
            "\n"
          ]
        }
      ]
    },
    {
      "cell_type": "markdown",
      "source": [
        "-----------------------------------------------------------------------------\n",
        "STEP 4: Visualize Confusion Matrix and Feature Importance\n",
        "-----------------------------------------------------------------------------\n"
      ],
      "metadata": {
        "id": "JSYO_RLuiIfD"
      }
    },
    {
      "cell_type": "markdown",
      "source": [
        "Visualize Confusion Matrix for XGBoost (generally the better model)"
      ],
      "metadata": {
        "id": "j_-ZOBJriK1R"
      }
    },
    {
      "cell_type": "code",
      "source": [
        "print(\"\\n--- Visualizing Confusion Matrix for XGBoost ---\")\n",
        "cm_xgb = confusion_matrix(y_test, y_pred_xgb)\n",
        "disp_xgb = ConfusionMatrixDisplay(confusion_matrix=cm_xgb, display_labels=xgb_pipeline.classes_)\n",
        "\n",
        "fig, ax = plt.subplots(figsize=(10, 8))\n",
        "disp_xgb.plot(ax=ax, cmap=plt.cm.Blues)\n",
        "plt.title('XGBoost Confusion Matrix', fontsize=16)\n",
        "plt.show()"
      ],
      "metadata": {
        "colab": {
          "base_uri": "https://localhost:8080/",
          "height": 756
        },
        "id": "-mxO8IAMiOBz",
        "outputId": "ea4d0403-5904-447e-f0ea-367ae0f27b52"
      },
      "execution_count": 58,
      "outputs": [
        {
          "output_type": "stream",
          "name": "stdout",
          "text": [
            "\n",
            "--- Visualizing Confusion Matrix for XGBoost ---\n"
          ]
        },
        {
          "output_type": "display_data",
          "data": {
            "text/plain": [
              "<Figure size 1000x800 with 2 Axes>"
            ],
            "image/png": "[encoded data removed]"
          },
          "metadata": {}
        }
      ]
    },
    {
      "cell_type": "markdown",
      "source": [
        " Visualize Feature Importance for XGBoost"
      ],
      "metadata": {
        "id": "BW6gVe_siRI4"
      }
    },
    {
      "cell_type": "code",
      "source": [
        "print(\"\\n--- Visualizing Feature Importance for XGBoost ---\")"
      ],
      "metadata": {
        "colab": {
          "base_uri": "https://localhost:8080/"
        },
        "id": "Rn0qGbEWiUHP",
        "outputId": "eab099b6-ba18-44dc-b47f-00279ab163f0"
      },
      "execution_count": 59,
      "outputs": [
        {
          "output_type": "stream",
          "name": "stdout",
          "text": [
            "\n",
            "--- Visualizing Feature Importance for XGBoost ---\n"
          ]
        }
      ]
    },
    {
      "cell_type": "markdown",
      "source": [
        "Get feature names after preprocessing"
      ],
      "metadata": {
        "id": "P2-zguRwiaZv"
      }
    },
    {
      "cell_type": "code",
      "source": [
        "feature_names = (\n",
        "    numerical_features.tolist() +\n",
        "    list(preprocessor.named_transformers_['cat'].get_feature_names_out(categorical_features))\n",
        ")\n",
        "feature_importances = xgb_pipeline.named_steps['classifier'].feature_importances_\n",
        "importance_df = pd.DataFrame({\n",
        "    'feature': feature_names,\n",
        "    'importance': feature_importances\n",
        "}).sort_values('importance', ascending=False)\n",
        "\n",
        "plt.figure(figsize=(12, 8))\n",
        "sns.barplot(x='importance', y='feature', data=importance_df)\n",
        "plt.title('XGBoost Feature Importance', fontsize=16)\n",
        "plt.xlabel('Importance', fontsize=12)\n",
        "plt.ylabel('Feature', fontsize=12)\n",
        "plt.show()\n"
      ],
      "metadata": {
        "colab": {
          "base_uri": "https://localhost:8080/",
          "height": 724
        },
        "id": "wiUAxe6NidO9",
        "outputId": "8268812f-8db6-4c03-d2b4-1632d4ca393b"
      },
      "execution_count": 60,
      "outputs": [
        {
          "output_type": "display_data",
          "data": {
            "text/plain": [
              "<Figure size 1200x800 with 1 Axes>"
            ],
            "image/png": "[encoded data removed]"
          },
          "metadata": {}
        }
      ]
    },
    {
      "cell_type": "markdown",
      "source": [
        "\n",
        "-----------------------------------------------------------------------------\n",
        "BONUS: Hyperparameter Tuning for XGBoost\n",
        "-----------------------------------------------------------------------------\n",
        "We'll perform a basic grid search to find the best hyperparameters."
      ],
      "metadata": {
        "id": "GWWqVJmtilmA"
      }
    },
    {
      "cell_type": "code",
      "source": [
        "print(\"\\n--- Performing Hyperparameter Tuning for XGBoost ---\")"
      ],
      "metadata": {
        "colab": {
          "base_uri": "https://localhost:8080/"
        },
        "id": "PW4G9Ohqio48",
        "outputId": "aa93ff77-8fa3-4e92-eb3f-a146f6588da0"
      },
      "execution_count": 61,
      "outputs": [
        {
          "output_type": "stream",
          "name": "stdout",
          "text": [
            "\n",
            "--- Performing Hyperparameter Tuning for XGBoost ---\n"
          ]
        }
      ]
    },
    {
      "cell_type": "markdown",
      "source": [
        "Define the parameter grid to search"
      ],
      "metadata": {
        "id": "yOlohFnOiq7w"
      }
    },
    {
      "cell_type": "code",
      "source": [
        "param_grid = {\n",
        "    'classifier__n_estimators': [50, 100, 150],\n",
        "    'classifier__learning_rate': [0.05, 0.1, 0.2],\n",
        "    'classifier__max_depth': [3, 5, 7]\n",
        "}"
      ],
      "metadata": {
        "id": "NpEjDHFoitqf"
      },
      "execution_count": 62,
      "outputs": []
    },
    {
      "cell_type": "markdown",
      "source": [
        " Create a GridSearchCV object"
      ],
      "metadata": {
        "id": "5I7IE5zviw6B"
      }
    },
    {
      "cell_type": "code",
      "source": [
        "grid_search = GridSearchCV(xgb_pipeline, param_grid, cv=3, scoring='f1_macro', n_jobs=-1, verbose=1)\n"
      ],
      "metadata": {
        "id": "Pdj4xJGJi2Z0"
      },
      "execution_count": 63,
      "outputs": []
    },
    {
      "cell_type": "markdown",
      "source": [
        "Fit the grid search to the data"
      ],
      "metadata": {
        "id": "d7RfpoqOi6KP"
      }
    },
    {
      "cell_type": "code",
      "source": [
        "grid_search.fit(X_train, y_train)"
      ],
      "metadata": {
        "colab": {
          "base_uri": "https://localhost:8080/",
          "height": 296
        },
        "id": "FAarxtbdi75l",
        "outputId": "74062759-be29-432a-b5ea-87be20bfa85b"
      },
      "execution_count": 64,
      "outputs": [
        {
          "output_type": "stream",
          "name": "stdout",
          "text": [
            "Fitting 3 folds for each of 27 candidates, totalling 81 fits\n"
          ]
        },
        {
          "output_type": "execute_result",
          "data": {
            "text/plain": [
              "GridSearchCV(cv=3,\n",
              "             estimator=Pipeline(steps=[('preprocessor',\n",
              "                                        ColumnTransformer(transformers=[('num',\n",
              "                                                                         StandardScaler(),\n",
              "                                                                         Index(['Elevation', 'Aspect', 'Slope', 'Dist_to_Hydro', 'Dist_to_Road'], dtype='object')),\n",
              "                                                                        ('cat',\n",
              "                                                                         OneHotEncoder(handle_unknown='ignore'),\n",
              "                                                                         Index(['Wilderness_Area', 'Soil_Type'], dtype='object'))])),\n",
              "                                       ('classifier',\n",
              "                                        XGBClassifier(base_score=None,\n",
              "                                                      b...\n",
              "                                                      max_delta_step=None,\n",
              "                                                      max_depth=None,\n",
              "                                                      max_leaves=None,\n",
              "                                                      min_child_weight=None,\n",
              "                                                      missing=nan,\n",
              "                                                      monotone_constraints=None,\n",
              "                                                      multi_strategy=None,\n",
              "                                                      n_estimators=100,\n",
              "                                                      n_jobs=None,\n",
              "                                                      num_parallel_tree=None, ...))]),\n",
              "             n_jobs=-1,\n",
              "             param_grid={'classifier__learning_rate': [0.05, 0.1, 0.2],\n",
              "                         'classifier__max_depth': [3, 5, 7],\n",
              "                         'classifier__n_estimators': [50, 100, 150]},\n",
              "             scoring='f1_macro', verbose=1)"
            ],
            "text/html": [
              "<style>#sk-container-id-8 {\n",
              "  /* Definition of color scheme common for light and dark mode */\n",
              "  --sklearn-color-text: #000;\n",
              "  --sklearn-color-text-muted: #666;\n",
              "  --sklearn-color-line: gray;\n",
              "  /* Definition of color scheme for unfitted estimators */\n",
              "  --sklearn-color-unfitted-level-0: #fff5e6;\n",
              "  --sklearn-color-unfitted-level-1: #f6e4d2;\n",
              "  --sklearn-color-unfitted-level-2: #ffe0b3;\n",
              "  --sklearn-color-unfitted-level-3: chocolate;\n",
              "  /* Definition of color scheme for fitted estimators */\n",
              "  --sklearn-color-fitted-level-0: #f0f8ff;\n",
              "  --sklearn-color-fitted-level-1: #d4ebff;\n",
              "  --sklearn-color-fitted-level-2: #b3dbfd;\n",
              "  --sklearn-color-fitted-level-3: cornflowerblue;\n",
              "\n",
              "  /* Specific color for light theme */\n",
              "  --sklearn-color-text-on-default-background: var(--sg-text-color, var(--theme-code-foreground, var(--jp-content-font-color1, black)));\n",
              "  --sklearn-color-background: var(--sg-background-color, var(--theme-background, var(--jp-layout-color0, white)));\n",
              "  --sklearn-color-border-box: var(--sg-text-color, var(--theme-code-foreground, var(--jp-content-font-color1, black)));\n",
              "  --sklearn-color-icon: #696969;\n",
              "\n",
              "  @media (prefers-color-scheme: dark) {\n",
              "    /* Redefinition of color scheme for dark theme */\n",
              "    --sklearn-color-text-on-default-background: var(--sg-text-color, var(--theme-code-foreground, var(--jp-content-font-color1, white)));\n",
              "    --sklearn-color-background: var(--sg-background-color, var(--theme-background, var(--jp-layout-color0, #111)));\n",
              "    --sklearn-color-border-box: var(--sg-text-color, var(--theme-code-foreground, var(--jp-content-font-color1, white)));\n",
              "    --sklearn-color-icon: #878787;\n",
              "  }\n",
              "}\n",
              "\n",
              "#sk-container-id-8 {\n",
              "  color: var(--sklearn-color-text);\n",
              "}\n",
              "\n",
              "#sk-container-id-8 pre {\n",
              "  padding: 0;\n",
              "}\n",
              "\n",
              "#sk-container-id-8 input.sk-hidden--visually {\n",
              "  border: 0;\n",
              "  clip: rect(1px 1px 1px 1px);\n",
              "  clip: rect(1px, 1px, 1px, 1px);\n",
              "  height: 1px;\n",
              "  margin: -1px;\n",
              "  overflow: hidden;\n",
              "  padding: 0;\n",
              "  position: absolute;\n",
              "  width: 1px;\n",
              "}\n",
              "\n",
              "#sk-container-id-8 div.sk-dashed-wrapped {\n",
              "  border: 1px dashed var(--sklearn-color-line);\n",
              "  margin: 0 0.4em 0.5em 0.4em;\n",
              "  box-sizing: border-box;\n",
              "  padding-bottom: 0.4em;\n",
              "  background-color: var(--sklearn-color-background);\n",
              "}\n",
              "\n",
              "#sk-container-id-8 div.sk-container {\n",
              "  /* jupyter's `normalize.less` sets `[hidden] { display: none; }`\n",
              "     but bootstrap.min.css set `[hidden] { display: none !important; }`\n",
              "     so we also need the `!important` here to be able to override the\n",
              "     default hidden behavior on the sphinx rendered scikit-learn.org.\n",
              "     See: https://github.com/scikit-learn/scikit-learn/issues/21755 */\n",
              "  display: inline-block !important;\n",
              "  position: relative;\n",
              "}\n",
              "\n",
              "#sk-container-id-8 div.sk-text-repr-fallback {\n",
              "  display: none;\n",
              "}\n",
              "\n",
              "div.sk-parallel-item,\n",
              "div.sk-serial,\n",
              "div.sk-item {\n",
              "  /* draw centered vertical line to link estimators */\n",
              "  background-image: linear-gradient(var(--sklearn-color-text-on-default-background), var(--sklearn-color-text-on-default-background));\n",
              "  background-size: 2px 100%;\n",
              "  background-repeat: no-repeat;\n",
              "  background-position: center center;\n",
              "}\n",
              "\n",
              "/* Parallel-specific style estimator block */\n",
              "\n",
              "#sk-container-id-8 div.sk-parallel-item::after {\n",
              "  content: \"\";\n",
              "  width: 100%;\n",
              "  border-bottom: 2px solid var(--sklearn-color-text-on-default-background);\n",
              "  flex-grow: 1;\n",
              "}\n",
              "\n",
              "#sk-container-id-8 div.sk-parallel {\n",
              "  display: flex;\n",
              "  align-items: stretch;\n",
              "  justify-content: center;\n",
              "  background-color: var(--sklearn-color-background);\n",
              "  position: relative;\n",
              "}\n",
              "\n",
              "#sk-container-id-8 div.sk-parallel-item {\n",
              "  display: flex;\n",
              "  flex-direction: column;\n",
              "}\n",
              "\n",
              "#sk-container-id-8 div.sk-parallel-item:first-child::after {\n",
              "  align-self: flex-end;\n",
              "  width: 50%;\n",
              "}\n",
              "\n",
              "#sk-container-id-8 div.sk-parallel-item:last-child::after {\n",
              "  align-self: flex-start;\n",
              "  width: 50%;\n",
              "}\n",
              "\n",
              "#sk-container-id-8 div.sk-parallel-item:only-child::after {\n",
              "  width: 0;\n",
              "}\n",
              "\n",
              "/* Serial-specific style estimator block */\n",
              "\n",
              "#sk-container-id-8 div.sk-serial {\n",
              "  display: flex;\n",
              "  flex-direction: column;\n",
              "  align-items: center;\n",
              "  background-color: var(--sklearn-color-background);\n",
              "  padding-right: 1em;\n",
              "  padding-left: 1em;\n",
              "}\n",
              "\n",
              "\n",
              "/* Toggleable style: style used for estimator/Pipeline/ColumnTransformer box that is\n",
              "clickable and can be expanded/collapsed.\n",
              "- Pipeline and ColumnTransformer use this feature and define the default style\n",
              "- Estimators will overwrite some part of the style using the `sk-estimator` class\n",
              "*/\n",
              "\n",
              "/* Pipeline and ColumnTransformer style (default) */\n",
              "\n",
              "#sk-container-id-8 div.sk-toggleable {\n",
              "  /* Default theme specific background. It is overwritten whether we have a\n",
              "  specific estimator or a Pipeline/ColumnTransformer */\n",
              "  background-color: var(--sklearn-color-background);\n",
              "}\n",
              "\n",
              "/* Toggleable label */\n",
              "#sk-container-id-8 label.sk-toggleable__label {\n",
              "  cursor: pointer;\n",
              "  display: flex;\n",
              "  width: 100%;\n",
              "  margin-bottom: 0;\n",
              "  padding: 0.5em;\n",
              "  box-sizing: border-box;\n",
              "  text-align: center;\n",
              "  align-items: start;\n",
              "  justify-content: space-between;\n",
              "  gap: 0.5em;\n",
              "}\n",
              "\n",
              "#sk-container-id-8 label.sk-toggleable__label .caption {\n",
              "  font-size: 0.6rem;\n",
              "  font-weight: lighter;\n",
              "  color: var(--sklearn-color-text-muted);\n",
              "}\n",
              "\n",
              "#sk-container-id-8 label.sk-toggleable__label-arrow:before {\n",
              "  /* Arrow on the left of the label */\n",
              "  content: \"▸\";\n",
              "  float: left;\n",
              "  margin-right: 0.25em;\n",
              "  color: var(--sklearn-color-icon);\n",
              "}\n",
              "\n",
              "#sk-container-id-8 label.sk-toggleable__label-arrow:hover:before {\n",
              "  color: var(--sklearn-color-text);\n",
              "}\n",
              "\n",
              "/* Toggleable content - dropdown */\n",
              "\n",
              "#sk-container-id-8 div.sk-toggleable__content {\n",
              "  max-height: 0;\n",
              "  max-width: 0;\n",
              "  overflow: hidden;\n",
              "  text-align: left;\n",
              "  /* unfitted */\n",
              "  background-color: var(--sklearn-color-unfitted-level-0);\n",
              "}\n",
              "\n",
              "#sk-container-id-8 div.sk-toggleable__content.fitted {\n",
              "  /* fitted */\n",
              "  background-color: var(--sklearn-color-fitted-level-0);\n",
              "}\n",
              "\n",
              "#sk-container-id-8 div.sk-toggleable__content pre {\n",
              "  margin: 0.2em;\n",
              "  border-radius: 0.25em;\n",
              "  color: var(--sklearn-color-text);\n",
              "  /* unfitted */\n",
              "  background-color: var(--sklearn-color-unfitted-level-0);\n",
              "}\n",
              "\n",
              "#sk-container-id-8 div.sk-toggleable__content.fitted pre {\n",
              "  /* unfitted */\n",
              "  background-color: var(--sklearn-color-fitted-level-0);\n",
              "}\n",
              "\n",
              "#sk-container-id-8 input.sk-toggleable__control:checked~div.sk-toggleable__content {\n",
              "  /* Expand drop-down */\n",
              "  max-height: 200px;\n",
              "  max-width: 100%;\n",
              "  overflow: auto;\n",
              "}\n",
              "\n",
              "#sk-container-id-8 input.sk-toggleable__control:checked~label.sk-toggleable__label-arrow:before {\n",
              "  content: \"▾\";\n",
              "}\n",
              "\n",
              "/* Pipeline/ColumnTransformer-specific style */\n",
              "\n",
              "#sk-container-id-8 div.sk-label input.sk-toggleable__control:checked~label.sk-toggleable__label {\n",
              "  color: var(--sklearn-color-text);\n",
              "  background-color: var(--sklearn-color-unfitted-level-2);\n",
              "}\n",
              "\n",
              "#sk-container-id-8 div.sk-label.fitted input.sk-toggleable__control:checked~label.sk-toggleable__label {\n",
              "  background-color: var(--sklearn-color-fitted-level-2);\n",
              "}\n",
              "\n",
              "/* Estimator-specific style */\n",
              "\n",
              "/* Colorize estimator box */\n",
              "#sk-container-id-8 div.sk-estimator input.sk-toggleable__control:checked~label.sk-toggleable__label {\n",
              "  /* unfitted */\n",
              "  background-color: var(--sklearn-color-unfitted-level-2);\n",
              "}\n",
              "\n",
              "#sk-container-id-8 div.sk-estimator.fitted input.sk-toggleable__control:checked~label.sk-toggleable__label {\n",
              "  /* fitted */\n",
              "  background-color: var(--sklearn-color-fitted-level-2);\n",
              "}\n",
              "\n",
              "#sk-container-id-8 div.sk-label label.sk-toggleable__label,\n",
              "#sk-container-id-8 div.sk-label label {\n",
              "  /* The background is the default theme color */\n",
              "  color: var(--sklearn-color-text-on-default-background);\n",
              "}\n",
              "\n",
              "/* On hover, darken the color of the background */\n",
              "#sk-container-id-8 div.sk-label:hover label.sk-toggleable__label {\n",
              "  color: var(--sklearn-color-text);\n",
              "  background-color: var(--sklearn-color-unfitted-level-2);\n",
              "}\n",
              "\n",
              "/* Label box, darken color on hover, fitted */\n",
              "#sk-container-id-8 div.sk-label.fitted:hover label.sk-toggleable__label.fitted {\n",
              "  color: var(--sklearn-color-text);\n",
              "  background-color: var(--sklearn-color-fitted-level-2);\n",
              "}\n",
              "\n",
              "/* Estimator label */\n",
              "\n",
              "#sk-container-id-8 div.sk-label label {\n",
              "  font-family: monospace;\n",
              "  font-weight: bold;\n",
              "  display: inline-block;\n",
              "  line-height: 1.2em;\n",
              "}\n",
              "\n",
              "#sk-container-id-8 div.sk-label-container {\n",
              "  text-align: center;\n",
              "}\n",
              "\n",
              "/* Estimator-specific */\n",
              "#sk-container-id-8 div.sk-estimator {\n",
              "  font-family: monospace;\n",
              "  border: 1px dotted var(--sklearn-color-border-box);\n",
              "  border-radius: 0.25em;\n",
              "  box-sizing: border-box;\n",
              "  margin-bottom: 0.5em;\n",
              "  /* unfitted */\n",
              "  background-color: var(--sklearn-color-unfitted-level-0);\n",
              "}\n",
              "\n",
              "#sk-container-id-8 div.sk-estimator.fitted {\n",
              "  /* fitted */\n",
              "  background-color: var(--sklearn-color-fitted-level-0);\n",
              "}\n",
              "\n",
              "/* on hover */\n",
              "#sk-container-id-8 div.sk-estimator:hover {\n",
              "  /* unfitted */\n",
              "  background-color: var(--sklearn-color-unfitted-level-2);\n",
              "}\n",
              "\n",
              "#sk-container-id-8 div.sk-estimator.fitted:hover {\n",
              "  /* fitted */\n",
              "  background-color: var(--sklearn-color-fitted-level-2);\n",
              "}\n",
              "\n",
              "/* Specification for estimator info (e.g. \"i\" and \"?\") */\n",
              "\n",
              "/* Common style for \"i\" and \"?\" */\n",
              "\n",
              ".sk-estimator-doc-link,\n",
              "a:link.sk-estimator-doc-link,\n",
              "a:visited.sk-estimator-doc-link {\n",
              "  float: right;\n",
              "  font-size: smaller;\n",
              "  line-height: 1em;\n",
              "  font-family: monospace;\n",
              "  background-color: var(--sklearn-color-background);\n",
              "  border-radius: 1em;\n",
              "  height: 1em;\n",
              "  width: 1em;\n",
              "  text-decoration: none !important;\n",
              "  margin-left: 0.5em;\n",
              "  text-align: center;\n",
              "  /* unfitted */\n",
              "  border: var(--sklearn-color-unfitted-level-1) 1pt solid;\n",
              "  color: var(--sklearn-color-unfitted-level-1);\n",
              "}\n",
              "\n",
              ".sk-estimator-doc-link.fitted,\n",
              "a:link.sk-estimator-doc-link.fitted,\n",
              "a:visited.sk-estimator-doc-link.fitted {\n",
              "  /* fitted */\n",
              "  border: var(--sklearn-color-fitted-level-1) 1pt solid;\n",
              "  color: var(--sklearn-color-fitted-level-1);\n",
              "}\n",
              "\n",
              "/* On hover */\n",
              "div.sk-estimator:hover .sk-estimator-doc-link:hover,\n",
              ".sk-estimator-doc-link:hover,\n",
              "div.sk-label-container:hover .sk-estimator-doc-link:hover,\n",
              ".sk-estimator-doc-link:hover {\n",
              "  /* unfitted */\n",
              "  background-color: var(--sklearn-color-unfitted-level-3);\n",
              "  color: var(--sklearn-color-background);\n",
              "  text-decoration: none;\n",
              "}\n",
              "\n",
              "div.sk-estimator.fitted:hover .sk-estimator-doc-link.fitted:hover,\n",
              ".sk-estimator-doc-link.fitted:hover,\n",
              "div.sk-label-container:hover .sk-estimator-doc-link.fitted:hover,\n",
              ".sk-estimator-doc-link.fitted:hover {\n",
              "  /* fitted */\n",
              "  background-color: var(--sklearn-color-fitted-level-3);\n",
              "  color: var(--sklearn-color-background);\n",
              "  text-decoration: none;\n",
              "}\n",
              "\n",
              "/* Span, style for the box shown on hovering the info icon */\n",
              ".sk-estimator-doc-link span {\n",
              "  display: none;\n",
              "  z-index: 9999;\n",
              "  position: relative;\n",
              "  font-weight: normal;\n",
              "  right: .2ex;\n",
              "  padding: .5ex;\n",
              "  margin: .5ex;\n",
              "  width: min-content;\n",
              "  min-width: 20ex;\n",
              "  max-width: 50ex;\n",
              "  color: var(--sklearn-color-text);\n",
              "  box-shadow: 2pt 2pt 4pt #999;\n",
              "  /* unfitted */\n",
              "  background: var(--sklearn-color-unfitted-level-0);\n",
              "  border: .5pt solid var(--sklearn-color-unfitted-level-3);\n",
              "}\n",
              "\n",
              ".sk-estimator-doc-link.fitted span {\n",
              "  /* fitted */\n",
              "  background: var(--sklearn-color-fitted-level-0);\n",
              "  border: var(--sklearn-color-fitted-level-3);\n",
              "}\n",
              "\n",
              ".sk-estimator-doc-link:hover span {\n",
              "  display: block;\n",
              "}\n",
              "\n",
              "/* \"?\"-specific style due to the `<a>` HTML tag */\n",
              "\n",
              "#sk-container-id-8 a.estimator_doc_link {\n",
              "  float: right;\n",
              "  font-size: 1rem;\n",
              "  line-height: 1em;\n",
              "  font-family: monospace;\n",
              "  background-color: var(--sklearn-color-background);\n",
              "  border-radius: 1rem;\n",
              "  height: 1rem;\n",
              "  width: 1rem;\n",
              "  text-decoration: none;\n",
              "  /* unfitted */\n",
              "  color: var(--sklearn-color-unfitted-level-1);\n",
              "  border: var(--sklearn-color-unfitted-level-1) 1pt solid;\n",
              "}\n",
              "\n",
              "#sk-container-id-8 a.estimator_doc_link.fitted {\n",
              "  /* fitted */\n",
              "  border: var(--sklearn-color-fitted-level-1) 1pt solid;\n",
              "  color: var(--sklearn-color-fitted-level-1);\n",
              "}\n",
              "\n",
              "/* On hover */\n",
              "#sk-container-id-8 a.estimator_doc_link:hover {\n",
              "  /* unfitted */\n",
              "  background-color: var(--sklearn-color-unfitted-level-3);\n",
              "  color: var(--sklearn-color-background);\n",
              "  text-decoration: none;\n",
              "}\n",
              "\n",
              "#sk-container-id-8 a.estimator_doc_link.fitted:hover {\n",
              "  /* fitted */\n",
              "  background-color: var(--sklearn-color-fitted-level-3);\n",
              "}\n",
              "</style><div id=\"sk-container-id-8\" class=\"sk-top-container\"><div class=\"sk-text-repr-fallback\"><pre>GridSearchCV(cv=3,\n",
              "             estimator=Pipeline(steps=[(&#x27;preprocessor&#x27;,\n",
              "                                        ColumnTransformer(transformers=[(&#x27;num&#x27;,\n",
              "                                                                         StandardScaler(),\n",
              "                                                                         Index([&#x27;Elevation&#x27;, &#x27;Aspect&#x27;, &#x27;Slope&#x27;, &#x27;Dist_to_Hydro&#x27;, &#x27;Dist_to_Road&#x27;], dtype=&#x27;object&#x27;)),\n",
              "                                                                        (&#x27;cat&#x27;,\n",
              "                                                                         OneHotEncoder(handle_unknown=&#x27;ignore&#x27;),\n",
              "                                                                         Index([&#x27;Wilderness_Area&#x27;, &#x27;Soil_Type&#x27;], dtype=&#x27;object&#x27;))])),\n",
              "                                       (&#x27;classifier&#x27;,\n",
              "                                        XGBClassifier(base_score=None,\n",
              "                                                      b...\n",
              "                                                      max_delta_step=None,\n",
              "                                                      max_depth=None,\n",
              "                                                      max_leaves=None,\n",
              "                                                      min_child_weight=None,\n",
              "                                                      missing=nan,\n",
              "                                                      monotone_constraints=None,\n",
              "                                                      multi_strategy=None,\n",
              "                                                      n_estimators=100,\n",
              "                                                      n_jobs=None,\n",
              "                                                      num_parallel_tree=None, ...))]),\n",
              "             n_jobs=-1,\n",
              "             param_grid={&#x27;classifier__learning_rate&#x27;: [0.05, 0.1, 0.2],\n",
              "                         &#x27;classifier__max_depth&#x27;: [3, 5, 7],\n",
              "                         &#x27;classifier__n_estimators&#x27;: [50, 100, 150]},\n",
              "             scoring=&#x27;f1_macro&#x27;, verbose=1)</pre><b>In a Jupyter environment, please rerun this cell to show the HTML representation or trust the notebook. <br />On GitHub, the HTML representation is unable to render, please try loading this page with nbviewer.org.</b></div><div class=\"sk-container\" hidden><div class=\"sk-item sk-dashed-wrapped\"><div class=\"sk-label-container\"><div class=\"sk-label fitted sk-toggleable\"><input class=\"sk-toggleable__control sk-hidden--visually\" id=\"sk-estimator-id-52\" type=\"checkbox\" ><label for=\"sk-estimator-id-52\" class=\"sk-toggleable__label fitted sk-toggleable__label-arrow\"><div><div>GridSearchCV</div></div><div><a class=\"sk-estimator-doc-link fitted\" rel=\"noreferrer\" target=\"_blank\" href=\"https://scikit-learn.org/1.6/modules/generated/sklearn.model_selection.GridSearchCV.html\">?<span>Documentation for GridSearchCV</span></a><span class=\"sk-estimator-doc-link fitted\">i<span>Fitted</span></span></div></label><div class=\"sk-toggleable__content fitted\"><pre>GridSearchCV(cv=3,\n",
              "             estimator=Pipeline(steps=[(&#x27;preprocessor&#x27;,\n",
              "                                        ColumnTransformer(transformers=[(&#x27;num&#x27;,\n",
              "                                                                         StandardScaler(),\n",
              "                                                                         Index([&#x27;Elevation&#x27;, &#x27;Aspect&#x27;, &#x27;Slope&#x27;, &#x27;Dist_to_Hydro&#x27;, &#x27;Dist_to_Road&#x27;], dtype=&#x27;object&#x27;)),\n",
              "                                                                        (&#x27;cat&#x27;,\n",
              "                                                                         OneHotEncoder(handle_unknown=&#x27;ignore&#x27;),\n",
              "                                                                         Index([&#x27;Wilderness_Area&#x27;, &#x27;Soil_Type&#x27;], dtype=&#x27;object&#x27;))])),\n",
              "                                       (&#x27;classifier&#x27;,\n",
              "                                        XGBClassifier(base_score=None,\n",
              "                                                      b...\n",
              "                                                      max_delta_step=None,\n",
              "                                                      max_depth=None,\n",
              "                                                      max_leaves=None,\n",
              "                                                      min_child_weight=None,\n",
              "                                                      missing=nan,\n",
              "                                                      monotone_constraints=None,\n",
              "                                                      multi_strategy=None,\n",
              "                                                      n_estimators=100,\n",
              "                                                      n_jobs=None,\n",
              "                                                      num_parallel_tree=None, ...))]),\n",
              "             n_jobs=-1,\n",
              "             param_grid={&#x27;classifier__learning_rate&#x27;: [0.05, 0.1, 0.2],\n",
              "                         &#x27;classifier__max_depth&#x27;: [3, 5, 7],\n",
              "                         &#x27;classifier__n_estimators&#x27;: [50, 100, 150]},\n",
              "             scoring=&#x27;f1_macro&#x27;, verbose=1)</pre></div> </div></div><div class=\"sk-parallel\"><div class=\"sk-parallel-item\"><div class=\"sk-item\"><div class=\"sk-label-container\"><div class=\"sk-label fitted sk-toggleable\"><input class=\"sk-toggleable__control sk-hidden--visually\" id=\"sk-estimator-id-53\" type=\"checkbox\" ><label for=\"sk-estimator-id-53\" class=\"sk-toggleable__label fitted sk-toggleable__label-arrow\"><div><div>best_estimator_: Pipeline</div></div></label><div class=\"sk-toggleable__content fitted\"><pre>Pipeline(steps=[(&#x27;preprocessor&#x27;,\n",
              "                 ColumnTransformer(transformers=[(&#x27;num&#x27;, StandardScaler(),\n",
              "                                                  Index([&#x27;Elevation&#x27;, &#x27;Aspect&#x27;, &#x27;Slope&#x27;, &#x27;Dist_to_Hydro&#x27;, &#x27;Dist_to_Road&#x27;], dtype=&#x27;object&#x27;)),\n",
              "                                                 (&#x27;cat&#x27;,\n",
              "                                                  OneHotEncoder(handle_unknown=&#x27;ignore&#x27;),\n",
              "                                                  Index([&#x27;Wilderness_Area&#x27;, &#x27;Soil_Type&#x27;], dtype=&#x27;object&#x27;))])),\n",
              "                (&#x27;classifier&#x27;,\n",
              "                 XGBClassifier(base_score=None, booster=None, callbacks=None,\n",
              "                               c...\n",
              "                               feature_types=None, feature_weights=None,\n",
              "                               gamma=None, grow_policy=None,\n",
              "                               importance_type=None,\n",
              "                               interaction_constraints=None, learning_rate=0.2,\n",
              "                               max_bin=None, max_cat_threshold=None,\n",
              "                               max_cat_to_onehot=None, max_delta_step=None,\n",
              "                               max_depth=3, max_leaves=None,\n",
              "                               min_child_weight=None, missing=nan,\n",
              "                               monotone_constraints=None, multi_strategy=None,\n",
              "                               n_estimators=100, n_jobs=None,\n",
              "                               num_parallel_tree=None, ...))])</pre></div> </div></div><div class=\"sk-serial\"><div class=\"sk-item\"><div class=\"sk-serial\"><div class=\"sk-item sk-dashed-wrapped\"><div class=\"sk-label-container\"><div class=\"sk-label fitted sk-toggleable\"><input class=\"sk-toggleable__control sk-hidden--visually\" id=\"sk-estimator-id-54\" type=\"checkbox\" ><label for=\"sk-estimator-id-54\" class=\"sk-toggleable__label fitted sk-toggleable__label-arrow\"><div><div>preprocessor: ColumnTransformer</div></div><div><a class=\"sk-estimator-doc-link fitted\" rel=\"noreferrer\" target=\"_blank\" href=\"https://scikit-learn.org/1.6/modules/generated/sklearn.compose.ColumnTransformer.html\">?<span>Documentation for preprocessor: ColumnTransformer</span></a></div></label><div class=\"sk-toggleable__content fitted\"><pre>ColumnTransformer(transformers=[(&#x27;num&#x27;, StandardScaler(),\n",
              "                                 Index([&#x27;Elevation&#x27;, &#x27;Aspect&#x27;, &#x27;Slope&#x27;, &#x27;Dist_to_Hydro&#x27;, &#x27;Dist_to_Road&#x27;], dtype=&#x27;object&#x27;)),\n",
              "                                (&#x27;cat&#x27;, OneHotEncoder(handle_unknown=&#x27;ignore&#x27;),\n",
              "                                 Index([&#x27;Wilderness_Area&#x27;, &#x27;Soil_Type&#x27;], dtype=&#x27;object&#x27;))])</pre></div> </div></div><div class=\"sk-parallel\"><div class=\"sk-parallel-item\"><div class=\"sk-item\"><div class=\"sk-label-container\"><div class=\"sk-label fitted sk-toggleable\"><input class=\"sk-toggleable__control sk-hidden--visually\" id=\"sk-estimator-id-55\" type=\"checkbox\" ><label for=\"sk-estimator-id-55\" class=\"sk-toggleable__label fitted sk-toggleable__label-arrow\"><div><div>num</div></div></label><div class=\"sk-toggleable__content fitted\"><pre>Index([&#x27;Elevation&#x27;, &#x27;Aspect&#x27;, &#x27;Slope&#x27;, &#x27;Dist_to_Hydro&#x27;, &#x27;Dist_to_Road&#x27;], dtype=&#x27;object&#x27;)</pre></div> </div></div><div class=\"sk-serial\"><div class=\"sk-item\"><div class=\"sk-estimator fitted sk-toggleable\"><input class=\"sk-toggleable__control sk-hidden--visually\" id=\"sk-estimator-id-56\" type=\"checkbox\" ><label for=\"sk-estimator-id-56\" class=\"sk-toggleable__label fitted sk-toggleable__label-arrow\"><div><div>StandardScaler</div></div><div><a class=\"sk-estimator-doc-link fitted\" rel=\"noreferrer\" target=\"_blank\" href=\"https://scikit-learn.org/1.6/modules/generated/sklearn.preprocessing.StandardScaler.html\">?<span>Documentation for StandardScaler</span></a></div></label><div class=\"sk-toggleable__content fitted\"><pre>StandardScaler()</pre></div> </div></div></div></div></div><div class=\"sk-parallel-item\"><div class=\"sk-item\"><div class=\"sk-label-container\"><div class=\"sk-label fitted sk-toggleable\"><input class=\"sk-toggleable__control sk-hidden--visually\" id=\"sk-estimator-id-57\" type=\"checkbox\" ><label for=\"sk-estimator-id-57\" class=\"sk-toggleable__label fitted sk-toggleable__label-arrow\"><div><div>cat</div></div></label><div class=\"sk-toggleable__content fitted\"><pre>Index([&#x27;Wilderness_Area&#x27;, &#x27;Soil_Type&#x27;], dtype=&#x27;object&#x27;)</pre></div> </div></div><div class=\"sk-serial\"><div class=\"sk-item\"><div class=\"sk-estimator fitted sk-toggleable\"><input class=\"sk-toggleable__control sk-hidden--visually\" id=\"sk-estimator-id-58\" type=\"checkbox\" ><label for=\"sk-estimator-id-58\" class=\"sk-toggleable__label fitted sk-toggleable__label-arrow\"><div><div>OneHotEncoder</div></div><div><a class=\"sk-estimator-doc-link fitted\" rel=\"noreferrer\" target=\"_blank\" href=\"https://scikit-learn.org/1.6/modules/generated/sklearn.preprocessing.OneHotEncoder.html\">?<span>Documentation for OneHotEncoder</span></a></div></label><div class=\"sk-toggleable__content fitted\"><pre>OneHotEncoder(handle_unknown=&#x27;ignore&#x27;)</pre></div> </div></div></div></div></div></div></div><div class=\"sk-item\"><div class=\"sk-estimator fitted sk-toggleable\"><input class=\"sk-toggleable__control sk-hidden--visually\" id=\"sk-estimator-id-59\" type=\"checkbox\" ><label for=\"sk-estimator-id-59\" class=\"sk-toggleable__label fitted sk-toggleable__label-arrow\"><div><div>XGBClassifier</div></div><div><a class=\"sk-estimator-doc-link fitted\" rel=\"noreferrer\" target=\"_blank\" href=\"https://xgboost.readthedocs.io/en/release_3.0.0/python/python_api.html#xgboost.XGBClassifier\">?<span>Documentation for XGBClassifier</span></a></div></label><div class=\"sk-toggleable__content fitted\"><pre>XGBClassifier(base_score=None, booster=None, callbacks=None,\n",
              "              colsample_bylevel=None, colsample_bynode=None,\n",
              "              colsample_bytree=None, device=None, early_stopping_rounds=None,\n",
              "              enable_categorical=False, eval_metric=&#x27;mlogloss&#x27;,\n",
              "              feature_types=None, feature_weights=None, gamma=None,\n",
              "              grow_policy=None, importance_type=None,\n",
              "              interaction_constraints=None, learning_rate=0.2, max_bin=None,\n",
              "              max_cat_threshold=None, max_cat_to_onehot=None,\n",
              "              max_delta_step=None, max_depth=3, max_leaves=None,\n",
              "              min_child_weight=None, missing=nan, monotone_constraints=None,\n",
              "              multi_strategy=None, n_estimators=100, n_jobs=None,\n",
              "              num_parallel_tree=None, ...)</pre></div> </div></div></div></div></div></div></div></div></div></div></div>"
            ]
          },
          "metadata": {},
          "execution_count": 64
        }
      ]
    },
    {
      "cell_type": "markdown",
      "source": [
        "Print the best parameters and best score"
      ],
      "metadata": {
        "id": "6N7MaRnOi_Gu"
      }
    },
    {
      "cell_type": "code",
      "source": [
        "print(f\"\\nBest parameters found: {grid_search.best_params_}\")\n",
        "print(f\"Best cross-validation score (F1 Macro): {grid_search.best_score_:.2f}\")\n"
      ],
      "metadata": {
        "colab": {
          "base_uri": "https://localhost:8080/"
        },
        "id": "xrt9pdXYjB8B",
        "outputId": "7dc5e143-6e13-46a1-9663-338fb69fd795"
      },
      "execution_count": 65,
      "outputs": [
        {
          "output_type": "stream",
          "name": "stdout",
          "text": [
            "\n",
            "Best parameters found: {'classifier__learning_rate': 0.2, 'classifier__max_depth': 3, 'classifier__n_estimators': 100}\n",
            "Best cross-validation score (F1 Macro): 0.97\n"
          ]
        }
      ]
    },
    {
      "cell_type": "markdown",
      "source": [
        "Evaluate the best model on the test set"
      ],
      "metadata": {
        "id": "CaUm55c7jE9e"
      }
    },
    {
      "cell_type": "code",
      "source": [
        "best_xgb_model = grid_search.best_estimator_\n",
        "y_pred_best = best_xgb_model.predict(X_test)\n",
        "\n",
        "print(\"\\nBest XGBoost Model Classification Report (after tuning):\")\n",
        "print(classification_report(y_test, y_pred_best))"
      ],
      "metadata": {
        "colab": {
          "base_uri": "https://localhost:8080/"
        },
        "id": "9QukQKOgjIIT",
        "outputId": "1ac66471-b30f-4c8f-f87c-32f090f8b61b"
      },
      "execution_count": 66,
      "outputs": [
        {
          "output_type": "stream",
          "name": "stdout",
          "text": [
            "\n",
            "Best XGBoost Model Classification Report (after tuning):\n",
            "              precision    recall  f1-score   support\n",
            "\n",
            "           0       0.99      1.00      0.99        98\n",
            "           1       1.00      0.97      0.98        31\n",
            "           2       1.00      0.98      0.99        53\n",
            "           3       0.86      1.00      0.92         6\n",
            "           4       1.00      1.00      1.00        17\n",
            "           5       1.00      1.00      1.00        20\n",
            "           6       1.00      1.00      1.00        25\n",
            "\n",
            "    accuracy                           0.99       250\n",
            "   macro avg       0.98      0.99      0.98       250\n",
            "weighted avg       0.99      0.99      0.99       250\n",
            "\n"
          ]
        }
      ]
    },
    {
      "cell_type": "markdown",
      "source": [
        "Task 3 (Full code)"
      ],
      "metadata": {
        "id": "L2ba6MvasjzA"
      }
    },
    {
      "cell_type": "code",
      "source": [
        "import numpy as np\n",
        "\n",
        "import pandas as pd\n",
        "\n",
        "import matplotlib.pyplot as plt\n",
        "\n",
        "import seaborn as sns\n",
        "\n",
        "from sklearn.model_selection import train_test_split, GridSearchCV\n",
        "\n",
        "from sklearn.preprocessing import StandardScaler, OneHotEncoder\n",
        "\n",
        "from sklearn.compose import ColumnTransformer\n",
        "\n",
        "from sklearn.pipeline import Pipeline\n",
        "\n",
        "from sklearn.metrics import confusion_matrix, classification_report, ConfusionMatrixDisplay\n",
        "\n",
        "from sklearn.ensemble import RandomForestClassifier\n",
        "\n",
        "from xgboost import XGBClassifier\n",
        "\n",
        "np.random.seed(42)\n",
        "\n",
        "n_samples = 1000\n",
        "\n",
        "elevation = np.random.uniform(1800, 3900, n_samples)\n",
        "\n",
        "aspect = np.random.uniform(0, 360, n_samples)\n",
        "\n",
        "slope = np.random.uniform(0, 60, n_samples)\n",
        "\n",
        "dist_hydro = np.random.uniform(0, 1400, n_samples)\n",
        "\n",
        "dist_road = np.random.uniform(0, 7000, n_samples)\n",
        "\n",
        "wilderness_area = np.random.choice(['Area_1', 'Area_2', 'Area_3', 'Area_4'], n_samples, p=[0.3, 0.4, 0.2, 0.1])\n",
        "\n",
        "soil_type = np.random.choice([f'Soil_{i}' for i in range(1, 10)], n_samples)\n",
        "\n",
        "cover_type = np.zeros(n_samples, dtype=int)\n",
        "\n",
        "cover_type[(elevation > 3000) & (slope < 20)] = 1\n",
        "\n",
        "cover_type[(elevation <= 3000) & (aspect > 180)] = 2\n",
        "\n",
        "cover_type[(dist_road > 5000) & (wilderness_area == 'Area_4')] = 3\n",
        "\n",
        "cover_type[(elevation > 3500) & (dist_hydro < 500)] = 4\n",
        "\n",
        "cover_type[(slope > 40) & (dist_road < 2000)] = 5\n",
        "\n",
        "cover_type[(elevation < 2500) & (wilderness_area == 'Area_1')] = 6\n",
        "\n",
        "cover_type = np.clip(cover_type, 0, 6) # Ensure 7 classes (0-6)\n",
        "\n",
        "data = pd.DataFrame({\n",
        "\n",
        " 'Elevation': elevation,\n",
        "\n",
        " 'Aspect': aspect,\n",
        "\n",
        " 'Slope': slope,\n",
        "\n",
        " 'Dist_to_Hydro': dist_hydro,\n",
        "\n",
        " 'Dist_to_Road': dist_road,\n",
        "\n",
        " 'Wilderness_Area': wilderness_area,\n",
        "\n",
        " 'Soil_Type': soil_type,\n",
        "\n",
        " 'Cover_Type': cover_type\n",
        "\n",
        "})\n",
        "\n",
        "\n",
        "\n",
        "print(\"First 5 rows of the generated dataset:\")\n",
        "\n",
        "print(data.head())\n",
        "\n",
        "print(\"\\nDataset Info:\")\n",
        "\n",
        "data.info()\n",
        "\n",
        "print(\"\\nTarget variable distribution:\")\n",
        "\n",
        "print(data['Cover_Type'].value_counts())\n",
        "\n",
        "X = data.drop('Cover_Type', axis=1)\n",
        "\n",
        "y = data['Cover_Type']\n",
        "\n",
        "\n",
        "\n",
        "numerical_features = X.select_dtypes(include=['float64']).columns\n",
        "\n",
        "categorical_features = X.select_dtypes(include=['object']).columns\n",
        "\n",
        "preprocessor = ColumnTransformer(\n",
        "\n",
        " transformers=[\n",
        "\n",
        "('num', StandardScaler(), numerical_features),\n",
        "\n",
        "('cat', OneHotEncoder(handle_unknown='ignore'), categorical_features)\n",
        "\n",
        " ])\n",
        "\n",
        "X_train, X_test, y_train, y_test = train_test_split(X, y, test_size=0.25, random_state=42, stratify=y)\n",
        "\n",
        "\n",
        "\n",
        "print(f\"\\nTraining set size: {len(X_train)} samples\")\n",
        "\n",
        "print(f\"Testing set size: {len(X_test)} samples\")\n",
        "\n",
        "\n",
        "\n",
        "print(\"\\n--- Training Random Forest Classifier ---\")\n",
        "\n",
        "rf_pipeline = Pipeline(steps=[\n",
        "\n",
        " ('preprocessor', preprocessor),\n",
        "\n",
        " ('classifier', RandomForestClassifier(n_estimators=100, random_state=42))\n",
        "\n",
        "])\n",
        "\n",
        "rf_pipeline.fit(X_train, y_train)\n",
        "\n",
        "y_pred_rf = rf_pipeline.predict(X_test)\n",
        "\n",
        "print(\"\\nRandom Forest Classification Report:\")\n",
        "\n",
        "print(classification_report(y_test, y_pred_rf))\n",
        "\n",
        "\n",
        "\n",
        "print(\"\\n--- Training XGBoost Classifier ---\")\n",
        "\n",
        "xgb_pipeline = Pipeline(steps=[\n",
        "\n",
        " ('preprocessor', preprocessor),\n",
        " ('classifier', XGBClassifier(n_estimators=100, eval_metric='mlogloss', random_state=42))\n",
        "\n",
        "])\n",
        "\n",
        "xgb_pipeline.fit(X_train, y_train)\n",
        "\n",
        "y_pred_xgb = xgb_pipeline.predict(X_test)\n",
        "\n",
        "print(\"\\nXGBoost Classification Report:\")\n",
        "\n",
        "print(classification_report(y_test, y_pred_xgb))\n",
        "\n",
        "print(\"\\n--- Visualizing Confusion Matrix for XGBoost ---\")\n",
        "\n",
        "cm_xgb = confusion_matrix(y_test, y_pred_xgb)\n",
        "\n",
        "disp_xgb = ConfusionMatrixDisplay(confusion_matrix=cm_xgb, display_labels=xgb_pipeline.classes_)\n",
        "\n",
        "\n",
        "\n",
        "fig, ax = plt.subplots(figsize=(10, 8))\n",
        "\n",
        "disp_xgb.plot(ax=ax, cmap=plt.cm.Blues)\n",
        "\n",
        "plt.title('XGBoost Confusion Matrix', fontsize=16)\n",
        "\n",
        "plt.show()\n",
        "\n",
        "print(\"\\n--- Visualizing Feature Importance for XGBoost ---\")\n",
        "\n",
        "feature_names = (\n",
        "\n",
        " numerical_features.tolist() +\n",
        "\n",
        " list(preprocessor.named_transformers_['cat'].get_feature_names_out(categorical_features))\n",
        "\n",
        ")\n",
        "\n",
        "feature_importances = xgb_pipeline.named_steps['classifier'].feature_importances_\n",
        "\n",
        "importance_df = pd.DataFrame({\n",
        "\n",
        " 'feature': feature_names,\n",
        "\n",
        " 'importance': feature_importances\n",
        "\n",
        "}).sort_values('importance', ascending=False)\n",
        "\n",
        "\n",
        "\n",
        "plt.figure(figsize=(12, 8))\n",
        "\n",
        "sns.barplot(x='importance', y='feature', data=importance_df)\n",
        "\n",
        "plt.title('XGBoost Feature Importance', fontsize=16)\n",
        "\n",
        "plt.xlabel('Importance', fontsize=12)\n",
        "\n",
        "plt.ylabel('Feature', fontsize=12)\n",
        "\n",
        "plt.show()\n",
        "\n",
        "print(\"\\n--- Performing Hyperparameter Tuning for XGBoost ---\")\n",
        "\n",
        "param_grid = {\n",
        "\n",
        " 'classifier__n_estimators': [50, 100, 150],\n",
        "\n",
        " 'classifier__learning_rate': [0.05, 0.1, 0.2],\n",
        "\n",
        " 'classifier__max_depth': [3, 5, 7]\n",
        "\n",
        "}\n",
        "\n",
        "grid_search = GridSearchCV(xgb_pipeline, param_grid, cv=3, scoring='f1_macro', n_jobs=-1, verbose=1)\n",
        "\n",
        "grid_search.fit(X_train, y_train)\n",
        "\n",
        "print(f\"\\nBest parameters found: {grid_search.best_params_}\")\n",
        "\n",
        "print(f\"Best cross-validation score (F1 Macro): {grid_search.best_score_:.2f}\")\n",
        "\n",
        "best_xgb_model = grid_search.best_estimator_\n",
        "\n",
        "y_pred_best = best_xgb_model.predict(X_test)\n",
        "\n",
        "\n",
        "\n",
        "print(\"\\nBest XGBoost Model Classification Report (after tuning):\")\n",
        "\n",
        "print(classification_report(y_test, y_pred_best))\n",
        "\n",
        "\n",
        "\n"
      ],
      "metadata": {
        "colab": {
          "base_uri": "https://localhost:8080/",
          "height": 1000
        },
        "id": "72vk9WyfqaoA",
        "outputId": "1c896a00-5a98-4e82-8240-a5bfa998ff31"
      },
      "execution_count": 90,
      "outputs": [
        {
          "output_type": "stream",
          "name": "stdout",
          "text": [
            "First 5 rows of the generated dataset:\n",
            "     Elevation      Aspect      Slope  Dist_to_Hydro  Dist_to_Road  \\\n",
            "0  2586.534250   66.647854  15.702341     941.784192   4003.971148   \n",
            "1  3796.500043  195.084341  14.818728    1115.353956   5638.026305   \n",
            "2  3337.187278  314.260501  54.375275     350.655058   5321.126509   \n",
            "3  3057.182817  263.600959  14.972772     874.823739   1077.299333   \n",
            "4  2127.639145  290.362013  16.316984     800.444376   1044.746288   \n",
            "\n",
            "  Wilderness_Area Soil_Type  Cover_Type  \n",
            "0          Area_2    Soil_1           0  \n",
            "1          Area_2    Soil_1           1  \n",
            "2          Area_3    Soil_3           0  \n",
            "3          Area_2    Soil_5           1  \n",
            "4          Area_3    Soil_3           2  \n",
            "\n",
            "Dataset Info:\n",
            "<class 'pandas.core.frame.DataFrame'>\n",
            "RangeIndex: 1000 entries, 0 to 999\n",
            "Data columns (total 8 columns):\n",
            " #   Column           Non-Null Count  Dtype  \n",
            "---  ------           --------------  -----  \n",
            " 0   Elevation        1000 non-null   float64\n",
            " 1   Aspect           1000 non-null   float64\n",
            " 2   Slope            1000 non-null   float64\n",
            " 3   Dist_to_Hydro    1000 non-null   float64\n",
            " 4   Dist_to_Road     1000 non-null   float64\n",
            " 5   Wilderness_Area  1000 non-null   object \n",
            " 6   Soil_Type        1000 non-null   object \n",
            " 7   Cover_Type       1000 non-null   int64  \n",
            "dtypes: float64(5), int64(1), object(2)\n",
            "memory usage: 62.6+ KB\n",
            "\n",
            "Target variable distribution:\n",
            "Cover_Type\n",
            "0    390\n",
            "2    214\n",
            "1    125\n",
            "6    100\n",
            "5     80\n",
            "4     68\n",
            "3     23\n",
            "Name: count, dtype: int64\n",
            "\n",
            "Training set size: 750 samples\n",
            "Testing set size: 250 samples\n",
            "\n",
            "--- Training Random Forest Classifier ---\n",
            "\n",
            "Random Forest Classification Report:\n",
            "              precision    recall  f1-score   support\n",
            "\n",
            "           0       0.88      1.00      0.94        98\n",
            "           1       0.97      0.94      0.95        31\n",
            "           2       0.89      0.96      0.93        53\n",
            "           3       1.00      0.17      0.29         6\n",
            "           4       1.00      0.71      0.83        17\n",
            "           5       1.00      0.70      0.82        20\n",
            "           6       1.00      1.00      1.00        25\n",
            "\n",
            "    accuracy                           0.92       250\n",
            "   macro avg       0.96      0.78      0.82       250\n",
            "weighted avg       0.93      0.92      0.91       250\n",
            "\n",
            "\n",
            "--- Training XGBoost Classifier ---\n",
            "\n",
            "XGBoost Classification Report:\n",
            "              precision    recall  f1-score   support\n",
            "\n",
            "           0       0.98      1.00      0.99        98\n",
            "           1       1.00      0.97      0.98        31\n",
            "           2       1.00      0.98      0.99        53\n",
            "           3       0.83      0.83      0.83         6\n",
            "           4       1.00      1.00      1.00        17\n",
            "           5       1.00      1.00      1.00        20\n",
            "           6       1.00      1.00      1.00        25\n",
            "\n",
            "    accuracy                           0.99       250\n",
            "   macro avg       0.97      0.97      0.97       250\n",
            "weighted avg       0.99      0.99      0.99       250\n",
            "\n",
            "\n",
            "--- Visualizing Confusion Matrix for XGBoost ---\n"
          ]
        },
        {
          "output_type": "display_data",
          "data": {
            "text/plain": [
              "<Figure size 1000x800 with 2 Axes>"
            ],
            "image/png": "[encoded data removed]"
          },
          "metadata": {}
        },
        {
          "output_type": "stream",
          "name": "stdout",
          "text": [
            "\n",
            "--- Visualizing Feature Importance for XGBoost ---\n"
          ]
        },
        {
          "output_type": "display_data",
          "data": {
            "text/plain": [
              "<Figure size 1200x800 with 1 Axes>"
            ],
            "image/png": "[encoded data removed]"
          },
          "metadata": {}
        },
        {
          "output_type": "stream",
          "name": "stdout",
          "text": [
            "\n",
            "--- Performing Hyperparameter Tuning for XGBoost ---\n",
            "Fitting 3 folds for each of 27 candidates, totalling 81 fits\n",
            "\n",
            "Best parameters found: {'classifier__learning_rate': 0.2, 'classifier__max_depth': 3, 'classifier__n_estimators': 100}\n",
            "Best cross-validation score (F1 Macro): 0.97\n",
            "\n",
            "Best XGBoost Model Classification Report (after tuning):\n",
            "              precision    recall  f1-score   support\n",
            "\n",
            "           0       0.99      1.00      0.99        98\n",
            "           1       1.00      0.97      0.98        31\n",
            "           2       1.00      0.98      0.99        53\n",
            "           3       0.86      1.00      0.92         6\n",
            "           4       1.00      1.00      1.00        17\n",
            "           5       1.00      1.00      1.00        20\n",
            "           6       1.00      1.00      1.00        25\n",
            "\n",
            "    accuracy                           0.99       250\n",
            "   macro avg       0.98      0.99      0.98       250\n",
            "weighted avg       0.99      0.99      0.99       250\n",
            "\n"
          ]
        }
      ]
    },
    {
      "cell_type": "markdown",
      "source": [
        "Task 4: Loan Approval Prediction Description"
      ],
      "metadata": {
        "id": "C6zmmXCUlG9d"
      }
    },
    {
      "cell_type": "code",
      "source": [
        "import numpy as np\n",
        "import pandas as pd\n",
        "import matplotlib.pyplot as plt\n",
        "import seaborn as sns\n",
        "from sklearn.model_selection import train_test_split\n",
        "from sklearn.preprocessing import StandardScaler, OneHotEncoder\n",
        "from sklearn.impute import SimpleImputer\n",
        "from sklearn.compose import ColumnTransformer\n",
        "from sklearn.pipeline import Pipeline\n",
        "from sklearn.linear_model import LogisticRegression\n",
        "from sklearn.tree import DecisionTreeClassifier\n",
        "from sklearn.metrics import classification_report, confusion_matrix, ConfusionMatrixDisplay\n",
        "from imblearn.over_sampling import SMOTE\n",
        "from collections import Counter\n"
      ],
      "metadata": {
        "id": "na7CsdmEmbxx"
      },
      "execution_count": 68,
      "outputs": []
    },
    {
      "cell_type": "markdown",
      "source": [
        "-----------------------------------------------------------------------------\n",
        "STEP 1: Data Generation (Simulating Loan-Approval-Prediction-Dataset)\n",
        "-----------------------------------------------------------------------------\n",
        "Since we don't have access to the specific Kaggle dataset, we'll create a synthetic\n",
        "one that mimics its properties: a mix of numerical and categorical features,\n",
        "missing values, and a severe class imbalance."
      ],
      "metadata": {
        "id": "Wo8GcuVZlLhT"
      }
    },
    {
      "cell_type": "code",
      "source": [
        "np.random.seed(42)"
      ],
      "metadata": {
        "id": "ysK36pOWmjYq"
      },
      "execution_count": 69,
      "outputs": []
    },
    {
      "cell_type": "markdown",
      "source": [
        "Define feature properties"
      ],
      "metadata": {
        "id": "tHeNsHFjmmZ-"
      }
    },
    {
      "cell_type": "code",
      "source": [
        "n_samples = 614\n",
        "data = pd.DataFrame({\n",
        "    'Gender': np.random.choice(['Male', 'Female', np.nan], n_samples, p=[0.75, 0.2, 0.05]),\n",
        "    'Married': np.random.choice(['Yes', 'No', np.nan], n_samples, p=[0.65, 0.3, 0.05]),\n",
        "    'Dependents': np.random.choice(['0', '1', '2', '3+', np.nan], n_samples, p=[0.55, 0.15, 0.15, 0.1, 0.05]),\n",
        "    'Education': np.random.choice(['Graduate', 'Not Graduate'], n_samples, p=[0.8, 0.2]),\n",
        "    'Self_Employed': np.random.choice(['Yes', 'No', np.nan], n_samples, p=[0.15, 0.8, 0.05]),\n",
        "    'ApplicantIncome': np.random.randint(1500, 81000, n_samples),\n",
        "    'CoapplicantIncome': np.random.randint(0, 42000, n_samples),\n",
        "    'LoanAmount': np.random.randint(9, 700, n_samples),\n",
        "    'Loan_Amount_Term': np.random.choice([12.0, 36.0, 60.0, 84.0, 120.0, 180.0, 240.0, 300.0, 360.0, np.nan], n_samples, p=[0.02, 0.02, 0.02, 0.03, 0.05, 0.05, 0.08, 0.1, 0.6, 0.03]),\n",
        "    'Credit_History': np.random.choice([1.0, 0.0, np.nan], n_samples, p=[0.85, 0.1, 0.05]),\n",
        "    'Property_Area': np.random.choice(['Urban', 'Semiurban', 'Rural'], n_samples, p=[0.33, 0.33, 0.34]),\n",
        "    'Loan_Status': np.random.choice(['Y', 'N'], n_samples, p=[0.7, 0.3])\n",
        "})\n"
      ],
      "metadata": {
        "id": "WHi5DvVXmo5G"
      },
      "execution_count": 70,
      "outputs": []
    },
    {
      "cell_type": "markdown",
      "source": [
        "Introduce some missing values"
      ],
      "metadata": {
        "id": "mFK48MN1mvVA"
      }
    },
    {
      "cell_type": "code",
      "source": [
        "data.loc[np.random.choice(data.index, 15, replace=False), 'LoanAmount'] = np.nan\n",
        "data.loc[np.random.choice(data.index, 10, replace=False), 'ApplicantIncome'] = np.nan\n",
        "\n",
        "print(\"First 5 rows of the generated dataset:\")\n",
        "print(data.head())\n",
        "print(\"\\nMissing values before preprocessing:\")\n",
        "print(data.isnull().sum())\n",
        "print(\"\\nLoan Status distribution (Imbalance check):\")\n",
        "print(data['Loan_Status'].value_counts())\n",
        "print(f\"Percentage of 'Y' (Approved): {data['Loan_Status'].value_counts(normalize=True)['Y']:.2f}%\")\n",
        "print(f\"Percentage of 'N' (Rejected): {data['Loan_Status'].value_counts(normalize=True)['N']:.2f}%\")\n"
      ],
      "metadata": {
        "colab": {
          "base_uri": "https://localhost:8080/"
        },
        "id": "fZ8MT7nAmwUD",
        "outputId": "791f045a-de41-453a-80f0-cbefd14ebad2"
      },
      "execution_count": 71,
      "outputs": [
        {
          "output_type": "stream",
          "name": "stdout",
          "text": [
            "First 5 rows of the generated dataset:\n",
            "  Gender Married Dependents     Education Self_Employed  ApplicantIncome  \\\n",
            "0   Male      No        nan      Graduate            No          47300.0   \n",
            "1    nan      No          0      Graduate            No          38463.0   \n",
            "2   Male     Yes         3+  Not Graduate            No          55830.0   \n",
            "3   Male     Yes          0      Graduate            No          53207.0   \n",
            "4   Male      No          0      Graduate           nan          20189.0   \n",
            "\n",
            "   CoapplicantIncome  LoanAmount  Loan_Amount_Term  Credit_History  \\\n",
            "0              14031       152.0             240.0             1.0   \n",
            "1              14536        24.0             360.0             1.0   \n",
            "2                446       310.0             360.0             1.0   \n",
            "3              36683       431.0             360.0             1.0   \n",
            "4              17618         NaN             300.0             1.0   \n",
            "\n",
            "  Property_Area Loan_Status  \n",
            "0         Urban           Y  \n",
            "1         Urban           Y  \n",
            "2         Urban           Y  \n",
            "3         Rural           N  \n",
            "4         Rural           Y  \n",
            "\n",
            "Missing values before preprocessing:\n",
            "Gender                0\n",
            "Married               0\n",
            "Dependents            0\n",
            "Education             0\n",
            "Self_Employed         0\n",
            "ApplicantIncome      10\n",
            "CoapplicantIncome     0\n",
            "LoanAmount           15\n",
            "Loan_Amount_Term     14\n",
            "Credit_History       36\n",
            "Property_Area         0\n",
            "Loan_Status           0\n",
            "dtype: int64\n",
            "\n",
            "Loan Status distribution (Imbalance check):\n",
            "Loan_Status\n",
            "Y    429\n",
            "N    185\n",
            "Name: count, dtype: int64\n",
            "Percentage of 'Y' (Approved): 0.70%\n",
            "Percentage of 'N' (Rejected): 0.30%\n"
          ]
        }
      ]
    },
    {
      "cell_type": "markdown",
      "source": [
        "Define features (X) and target (y)"
      ],
      "metadata": {
        "id": "DpEJxls8m51t"
      }
    },
    {
      "cell_type": "code",
      "source": [
        "X = data.drop('Loan_Status', axis=1)\n",
        "y = data['Loan_Status']\n"
      ],
      "metadata": {
        "id": "xvx_R50lm6pS"
      },
      "execution_count": 72,
      "outputs": []
    },
    {
      "cell_type": "markdown",
      "source": [
        "-----------------------------------------------------------------------------\n",
        "STEP 2: Data Preprocessing & Missing Value Handling\n",
        "-----------------------------------------------------------------------------\n",
        "We'll use pipelines to handle missing values and encode/scale features in a\n",
        "robust and repeatable way."
      ],
      "metadata": {
        "id": "AXe0C0mqnBBW"
      }
    },
    {
      "cell_type": "markdown",
      "source": [
        "Identify numerical and categorical features"
      ],
      "metadata": {
        "id": "nzrHjb-AnFCV"
      }
    },
    {
      "cell_type": "code",
      "source": [
        "numerical_features = X.select_dtypes(include=['number']).columns\n",
        "categorical_features = X.select_dtypes(include=['object']).columns"
      ],
      "metadata": {
        "id": "LWAfLZXPnIN-"
      },
      "execution_count": 73,
      "outputs": []
    },
    {
      "cell_type": "markdown",
      "source": [
        "Create a preprocessing pipeline for numerical features"
      ],
      "metadata": {
        "id": "PC7ifqGTnNDi"
      }
    },
    {
      "cell_type": "code",
      "source": [
        "numerical_transformer = Pipeline(steps=[\n",
        "    ('imputer', SimpleImputer(strategy='median')),\n",
        "    ('scaler', StandardScaler())\n",
        "])"
      ],
      "metadata": {
        "id": "gPncEuRcnNv4"
      },
      "execution_count": 74,
      "outputs": []
    },
    {
      "cell_type": "markdown",
      "source": [
        " Create a preprocessing pipeline for categorical features"
      ],
      "metadata": {
        "id": "mZXB6MHHnQgi"
      }
    },
    {
      "cell_type": "code",
      "source": [
        "categorical_transformer = Pipeline(steps=[\n",
        "    ('imputer', SimpleImputer(strategy='most_frequent')),\n",
        "    ('onehot', OneHotEncoder(handle_unknown='ignore'))\n",
        "])"
      ],
      "metadata": {
        "id": "TJUp8YIPnROr"
      },
      "execution_count": 75,
      "outputs": []
    },
    {
      "cell_type": "markdown",
      "source": [
        "Use ColumnTransformer to apply the transformations to the correct columns"
      ],
      "metadata": {
        "id": "vpWhs4GCnUNi"
      }
    },
    {
      "cell_type": "code",
      "source": [
        "preprocessor = ColumnTransformer(\n",
        "    transformers=[\n",
        "        ('num', numerical_transformer, numerical_features),\n",
        "        ('cat', categorical_transformer, categorical_features)\n",
        "    ])"
      ],
      "metadata": {
        "id": "A9TMdyORnVG6"
      },
      "execution_count": 76,
      "outputs": []
    },
    {
      "cell_type": "markdown",
      "source": [
        " Split the data into training and testing sets"
      ],
      "metadata": {
        "id": "B0DdCWBYnYGi"
      }
    },
    {
      "cell_type": "code",
      "source": [
        "X_train, X_test, y_train, y_test = train_test_split(X, y, test_size=0.25, random_state=42, stratify=y)\n",
        "\n",
        "print(f\"\\nTraining set size: {len(X_train)} samples\")\n",
        "print(f\"Testing set size: {len(X_test)} samples\")\n"
      ],
      "metadata": {
        "colab": {
          "base_uri": "https://localhost:8080/"
        },
        "id": "hF4EO9-anY8C",
        "outputId": "18d248e5-bdb1-4ea0-f872-222ad2bda3fc"
      },
      "execution_count": 77,
      "outputs": [
        {
          "output_type": "stream",
          "name": "stdout",
          "text": [
            "\n",
            "Training set size: 460 samples\n",
            "Testing set size: 154 samples\n"
          ]
        }
      ]
    },
    {
      "cell_type": "markdown",
      "source": [
        "-----------------------------------------------------------------------------\n",
        "STEP 3: Handle Class Imbalance (Bonus: Using SMOTE)\n",
        "-----------------------------------------------------------------------------\n",
        "Class imbalance can lead to a biased model. We use SMOTE to over-sample the\n",
        "minority class (Loan_Status='N') on the training data only.\n",
        "\n",
        "Transform the training data using the preprocessor"
      ],
      "metadata": {
        "id": "jKzk5EwrneUA"
      }
    },
    {
      "cell_type": "code",
      "source": [
        "X_train_transformed = preprocessor.fit_transform(X_train)\n",
        "y_train_encoded = y_train.apply(lambda x: 1 if x == 'Y' else 0)\n"
      ],
      "metadata": {
        "id": "kvo0obuPnixV"
      },
      "execution_count": 78,
      "outputs": []
    },
    {
      "cell_type": "markdown",
      "source": [
        "Apply SMOTE to the training data"
      ],
      "metadata": {
        "id": "8sNVlmo3nrV7"
      }
    },
    {
      "cell_type": "code",
      "source": [
        "smote = SMOTE(random_state=42)\n",
        "X_train_resampled, y_train_resampled = smote.fit_resample(X_train_transformed, y_train_encoded)\n",
        "\n",
        "print(\"\\nClass distribution before SMOTE:\", Counter(y_train_encoded))\n",
        "print(\"Class distribution after SMOTE:\", Counter(y_train_resampled))\n"
      ],
      "metadata": {
        "colab": {
          "base_uri": "https://localhost:8080/"
        },
        "id": "m4DZ8mi1nsY7",
        "outputId": "270bb755-ef2f-4a90-fb30-89c3955cc3f8"
      },
      "execution_count": 79,
      "outputs": [
        {
          "output_type": "stream",
          "name": "stdout",
          "text": [
            "\n",
            "Class distribution before SMOTE: Counter({1: 321, 0: 139})\n",
            "Class distribution after SMOTE: Counter({1: 321, 0: 321})\n"
          ]
        }
      ]
    },
    {
      "cell_type": "markdown",
      "source": [
        "\n",
        "Transform the test data using the fitted preprocessor"
      ],
      "metadata": {
        "id": "-oC1KQJVnn1g"
      }
    },
    {
      "cell_type": "code",
      "source": [
        "X_test_transformed = preprocessor.transform(X_test)\n",
        "y_test_encoded = y_test.apply(lambda x: 1 if x == 'Y' else 0)"
      ],
      "metadata": {
        "id": "lE68bq9inwwK"
      },
      "execution_count": 80,
      "outputs": []
    },
    {
      "cell_type": "markdown",
      "source": [
        "-----------------------------------------------------------------------------\n",
        "STEP 4: Train and Evaluate Models (Logistic Regression vs. Decision Tree)\n",
        "-----------------------------------------------------------------------------\n"
      ],
      "metadata": {
        "id": "Mq_U2foVn0ko"
      }
    },
    {
      "cell_type": "markdown",
      "source": [
        "Model 1: Logistic Regression"
      ],
      "metadata": {
        "id": "Q0A3y4iBn3Ag"
      }
    },
    {
      "cell_type": "code",
      "source": [
        "print(\"\\n--- Training Logistic Regression Model ---\")"
      ],
      "metadata": {
        "colab": {
          "base_uri": "https://localhost:8080/"
        },
        "id": "czCQjrY5n6cY",
        "outputId": "7835a946-550e-4146-d4d3-e152ef5345bd"
      },
      "execution_count": 81,
      "outputs": [
        {
          "output_type": "stream",
          "name": "stdout",
          "text": [
            "\n",
            "--- Training Logistic Regression Model ---\n"
          ]
        }
      ]
    },
    {
      "cell_type": "markdown",
      "source": [
        "Train the model on the resampled training data"
      ],
      "metadata": {
        "id": "9jPixek1n_h9"
      }
    },
    {
      "cell_type": "code",
      "source": [
        "log_reg = LogisticRegression(random_state=42)\n",
        "log_reg.fit(X_train_resampled, y_train_resampled)\n",
        "y_pred_log_reg = log_reg.predict(X_test_transformed)\n",
        "\n",
        "print(\"\\nLogistic Regression Classification Report:\")\n",
        "print(classification_report(y_test_encoded, y_pred_log_reg))\n"
      ],
      "metadata": {
        "colab": {
          "base_uri": "https://localhost:8080/"
        },
        "id": "La90wbCioAfJ",
        "outputId": "4b3e049b-fd1e-494e-c3cb-b4e0bad5e16b"
      },
      "execution_count": 82,
      "outputs": [
        {
          "output_type": "stream",
          "name": "stdout",
          "text": [
            "\n",
            "Logistic Regression Classification Report:\n",
            "              precision    recall  f1-score   support\n",
            "\n",
            "           0       0.25      0.43      0.32        46\n",
            "           1       0.65      0.44      0.53       108\n",
            "\n",
            "    accuracy                           0.44       154\n",
            "   macro avg       0.45      0.44      0.42       154\n",
            "weighted avg       0.53      0.44      0.46       154\n",
            "\n"
          ]
        }
      ]
    },
    {
      "cell_type": "markdown",
      "source": [
        "Model 2: Decision Tree Classifier"
      ],
      "metadata": {
        "id": "9JuAIAsxoBG7"
      }
    },
    {
      "cell_type": "code",
      "source": [
        "print(\"\\n--- Training Decision Tree Classifier ---\")"
      ],
      "metadata": {
        "colab": {
          "base_uri": "https://localhost:8080/"
        },
        "id": "vq_q-0YZoB2K",
        "outputId": "36db9b76-a67c-4797-ff2e-2ef3637a003a"
      },
      "execution_count": 83,
      "outputs": [
        {
          "output_type": "stream",
          "name": "stdout",
          "text": [
            "\n",
            "--- Training Decision Tree Classifier ---\n"
          ]
        }
      ]
    },
    {
      "cell_type": "markdown",
      "source": [
        "Train the model on the resampled training data"
      ],
      "metadata": {
        "id": "JdmPuc5loCM6"
      }
    },
    {
      "cell_type": "code",
      "source": [
        "dt_classifier = DecisionTreeClassifier(random_state=42)\n",
        "dt_classifier.fit(X_train_resampled, y_train_resampled)\n",
        "y_pred_dt = dt_classifier.predict(X_test_transformed)\n",
        "\n",
        "print(\"\\nDecision Tree Classification Report:\")\n",
        "print(classification_report(y_test_encoded, y_pred_dt))\n"
      ],
      "metadata": {
        "colab": {
          "base_uri": "https://localhost:8080/"
        },
        "id": "xM5rHHm0oDaU",
        "outputId": "2e8f1539-c4da-4df2-ed14-f463be1c32b1"
      },
      "execution_count": 84,
      "outputs": [
        {
          "output_type": "stream",
          "name": "stdout",
          "text": [
            "\n",
            "Decision Tree Classification Report:\n",
            "              precision    recall  f1-score   support\n",
            "\n",
            "           0       0.29      0.41      0.34        46\n",
            "           1       0.70      0.57      0.63       108\n",
            "\n",
            "    accuracy                           0.53       154\n",
            "   macro avg       0.49      0.49      0.49       154\n",
            "weighted avg       0.58      0.53      0.54       154\n",
            "\n"
          ]
        }
      ]
    },
    {
      "cell_type": "markdown",
      "source": [
        "-----------------------------------------------------------------------------\n",
        "STEP 5: Visualize Confusion Matrix and Discuss Metrics\n",
        "-----------------------------------------------------------------------------\n",
        "Let's visualize the confusion matrix for the Decision Tree model,\n",
        "which often performs well on this type of data."
      ],
      "metadata": {
        "id": "lDkEXSl6oMIJ"
      }
    },
    {
      "cell_type": "code",
      "source": [
        "print(\"\\n--- Visualizing Confusion Matrix for Decision Tree ---\")\n",
        "cm_dt = confusion_matrix(y_test_encoded, y_pred_dt, labels=[0, 1])\n",
        "disp_dt = ConfusionMatrixDisplay(confusion_matrix=cm_dt, display_labels=['N', 'Y'])\n",
        "\n",
        "fig, ax = plt.subplots(figsize=(8, 6))\n",
        "disp_dt.plot(ax=ax, cmap=plt.cm.Blues)\n",
        "plt.title('Decision Tree Confusion Matrix', fontsize=16)\n",
        "plt.show()\n"
      ],
      "metadata": {
        "colab": {
          "base_uri": "https://localhost:8080/",
          "height": 602
        },
        "id": "7fs6xWLMoQDq",
        "outputId": "bd6fa2d3-931a-4e7e-dac9-50fafa6a21d7"
      },
      "execution_count": 85,
      "outputs": [
        {
          "output_type": "stream",
          "name": "stdout",
          "text": [
            "\n",
            "--- Visualizing Confusion Matrix for Decision Tree ---\n"
          ]
        },
        {
          "output_type": "display_data",
          "data": {
            "text/plain": [
              "<Figure size 800x600 with 2 Axes>"
            ],
            "image/png": "[encoded data removed]"
          },
          "metadata": {}
        }
      ]
    },
    {
      "cell_type": "markdown",
      "source": [
        "Discuss the results"
      ],
      "metadata": {
        "id": "LI0pGGAEoUcu"
      }
    },
    {
      "cell_type": "code",
      "source": [
        "print(\"\\n--- Discussion of Results ---\")\n",
        "print(\"On imbalanced data, accuracy can be misleading. A model that predicts 'Y' for every applicant\")\n",
        "print(\"would have a high accuracy score but would be useless. That's why we look at:\")\n",
        "print(\"- Precision: How many of the predicted 'Y's were actually 'Y's?\")\n",
        "print(\"- Recall: How many of the actual 'Y's were correctly identified?\")\n",
        "print(\"- F1-score: The harmonic mean of precision and recall.\")\n",
        "print(\"\\nComparing the models, you should see that after using SMOTE, the models perform\")\n",
        "print(\"much better on the minority class ('N'). The F1-score and Recall for class 'N'\")\n",
        "print(\"are the most important metrics to analyze, as they show the model's ability to\")\n",
        "print(\"correctly identify loan applications that should be rejected.\")\n"
      ],
      "metadata": {
        "colab": {
          "base_uri": "https://localhost:8080/"
        },
        "id": "J5nVJwexoZC6",
        "outputId": "5bb1764e-92f0-404c-8710-9abd8d23730d"
      },
      "execution_count": 86,
      "outputs": [
        {
          "output_type": "stream",
          "name": "stdout",
          "text": [
            "\n",
            "--- Discussion of Results ---\n",
            "On imbalanced data, accuracy can be misleading. A model that predicts 'Y' for every applicant\n",
            "would have a high accuracy score but would be useless. That's why we look at:\n",
            "- Precision: How many of the predicted 'Y's were actually 'Y's?\n",
            "- Recall: How many of the actual 'Y's were correctly identified?\n",
            "- F1-score: The harmonic mean of precision and recall.\n",
            "\n",
            "Comparing the models, you should see that after using SMOTE, the models perform\n",
            "much better on the minority class ('N'). The F1-score and Recall for class 'N'\n",
            "are the most important metrics to analyze, as they show the model's ability to\n",
            "correctly identify loan applications that should be rejected.\n"
          ]
        }
      ]
    },
    {
      "cell_type": "markdown",
      "source": [
        "Task 4(Full code)"
      ],
      "metadata": {
        "id": "lGUsH5-ysqBW"
      }
    },
    {
      "cell_type": "code",
      "source": [
        "import numpy as np\n",
        "import pandas as pd\n",
        "import matplotlib.pyplot as plt\n",
        "import seaborn as sns\n",
        "from sklearn.model_selection import train_test_split\n",
        "from sklearn.preprocessing import StandardScaler, OneHotEncoder\n",
        "from sklearn.impute import SimpleImputer\n",
        "from sklearn.compose import ColumnTransformer\n",
        "from sklearn.pipeline import Pipeline\n",
        "from sklearn.linear_model import LogisticRegression\n",
        "from sklearn.tree import DecisionTreeClassifier\n",
        "from sklearn.metrics import classification_report, confusion_matrix, ConfusionMatrixDisplay\n",
        "from imblearn.over_sampling import SMOTE\n",
        "from collections import Counter\n",
        "\n",
        "np.random.seed(42)\n",
        "\n",
        "n_samples = 614\n",
        "data = pd.DataFrame({\n",
        "    'Gender': np.random.choice(['Male', 'Female', np.nan], n_samples, p=[0.75, 0.2, 0.05]),\n",
        "    'Married': np.random.choice(['Yes', 'No', np.nan], n_samples, p=[0.65, 0.3, 0.05]),\n",
        "    'Dependents': np.random.choice(['0', '1', '2', '3+', np.nan], n_samples, p=[0.55, 0.15, 0.15, 0.1, 0.05]),\n",
        "    'Education': np.random.choice(['Graduate', 'Not Graduate'], n_samples, p=[0.8, 0.2]),\n",
        "    'Self_Employed': np.random.choice(['Yes', 'No', np.nan], n_samples, p=[0.15, 0.8, 0.05]),\n",
        "    'ApplicantIncome': np.random.randint(1500, 81000, n_samples),\n",
        "    'CoapplicantIncome': np.random.randint(0, 42000, n_samples),\n",
        "    'LoanAmount': np.random.randint(9, 700, n_samples),\n",
        "    'Loan_Amount_Term': np.random.choice([12.0, 36.0, 60.0, 84.0, 120.0, 180.0, 240.0, 300.0, 360.0, np.nan], n_samples, p=[0.02, 0.02, 0.02, 0.03, 0.05, 0.05, 0.08, 0.1, 0.6, 0.03]),\n",
        "    'Credit_History': np.random.choice([1.0, 0.0, np.nan], n_samples, p=[0.85, 0.1, 0.05]),\n",
        "    'Property_Area': np.random.choice(['Urban', 'Semiurban', 'Rural'], n_samples, p=[0.33, 0.33, 0.34]),\n",
        "    'Loan_Status': np.random.choice(['Y', 'N'], n_samples, p=[0.7, 0.3])\n",
        "})\n",
        "\n",
        "data.loc[np.random.choice(data.index, 15, replace=False), 'LoanAmount'] = np.nan\n",
        "data.loc[np.random.choice(data.index, 10, replace=False), 'ApplicantIncome'] = np.nan\n",
        "\n",
        "print(\"First 5 rows of the generated dataset:\")\n",
        "print(data.head())\n",
        "print(\"\\nMissing values before preprocessing:\")\n",
        "print(data.isnull().sum())\n",
        "print(\"\\nLoan Status distribution (Imbalance check):\")\n",
        "print(data['Loan_Status'].value_counts())\n",
        "print(f\"Percentage of 'Y' (Approved): {data['Loan_Status'].value_counts(normalize=True)['Y']:.2f}%\")\n",
        "print(f\"Percentage of 'N' (Rejected): {data['Loan_Status'].value_counts(normalize=True)['N']:.2f}%\")\n",
        "\n",
        "X = data.drop('Loan_Status', axis=1)\n",
        "y = data['Loan_Status']\n",
        "\n",
        "numerical_features = X.select_dtypes(include=['number']).columns\n",
        "categorical_features = X.select_dtypes(include=['object']).columns\n",
        "\n",
        "numerical_transformer = Pipeline(steps=[\n",
        "    ('imputer', SimpleImputer(strategy='median')),\n",
        "    ('scaler', StandardScaler())\n",
        "])\n",
        "\n",
        "categorical_transformer = Pipeline(steps=[\n",
        "    ('imputer', SimpleImputer(strategy='most_frequent')),\n",
        "    ('onehot', OneHotEncoder(handle_unknown='ignore'))\n",
        "])\n",
        "\n",
        "preprocessor = ColumnTransformer(\n",
        "    transformers=[\n",
        "        ('num', numerical_transformer, numerical_features),\n",
        "        ('cat', categorical_transformer, categorical_features)\n",
        "    ])\n",
        "\n",
        "X_train, X_test, y_train, y_test = train_test_split(X, y, test_size=0.25, random_state=42, stratify=y)\n",
        "\n",
        "print(f\"\\nTraining set size: {len(X_train)} samples\")\n",
        "print(f\"Testing set size: {len(X_test)} samples\")\n",
        "\n",
        "X_train_transformed = preprocessor.fit_transform(X_train)\n",
        "y_train_encoded = y_train.apply(lambda x: 1 if x == 'Y' else 0)\n",
        "\n",
        "smote = SMOTE(random_state=42)\n",
        "X_train_resampled, y_train_resampled = smote.fit_resample(X_train_transformed, y_train_encoded)\n",
        "\n",
        "print(\"\\nClass distribution before SMOTE:\", Counter(y_train_encoded))\n",
        "print(\"Class distribution after SMOTE:\", Counter(y_train_resampled))\n",
        "\n",
        "X_test_transformed = preprocessor.transform(X_test)\n",
        "y_test_encoded = y_test.apply(lambda x: 1 if x == 'Y' else 0)\n",
        "\n",
        "print(\"\\n--- Training Logistic Regression Model ---\")\n",
        "log_reg = LogisticRegression(random_state=42)\n",
        "log_reg.fit(X_train_resampled, y_train_resampled)\n",
        "y_pred_log_reg = log_reg.predict(X_test_transformed)\n",
        "\n",
        "print(\"\\nLogistic Regression Classification Report:\")\n",
        "print(classification_report(y_test_encoded, y_pred_log_reg))\n",
        "\n",
        "print(\"\\n--- Training Decision Tree Classifier ---\")\n",
        "dt_classifier = DecisionTreeClassifier(random_state=42)\n",
        "dt_classifier.fit(X_train_resampled, y_train_resampled)\n",
        "y_pred_dt = dt_classifier.predict(X_test_transformed)\n",
        "\n",
        "print(\"\\nDecision Tree Classification Report:\")\n",
        "print(classification_report(y_test_encoded, y_pred_dt))\n",
        "\n",
        "print(\"\\n--- Visualizing Confusion Matrix for Decision Tree ---\")\n",
        "cm_dt = confusion_matrix(y_test_encoded, y_pred_dt, labels=[0, 1])\n",
        "disp_dt = ConfusionMatrixDisplay(confusion_matrix=cm_dt, display_labels=['N', 'Y'])\n",
        "\n",
        "fig, ax = plt.subplots(figsize=(8, 6))\n",
        "disp_dt.plot(ax=ax, cmap=plt.cm.Blues)\n",
        "plt.title('Decision Tree Confusion Matrix', fontsize=16)\n",
        "plt.show()\n",
        "\n",
        "print(\"\\n--- Discussion of Results ---\")\n",
        "print(\"On imbalanced data, accuracy can be misleading. A model that predicts 'Y' for every applicant\")\n",
        "print(\"would have a high accuracy score but would be useless. That's why we look at:\")\n",
        "print(\"- Precision: How many of the predicted 'Y's were actually 'Y's?\")\n",
        "print(\"- Recall: How many of the actual 'Y's were correctly identified?\")\n",
        "print(\"- F1-score: The harmonic mean of precision and recall.\")\n",
        "print(\"\\nComparing the models, you should see that after using SMOTE, the models perform\")\n",
        "print(\"much better on the minority class ('N'). The F1-score and Recall for class 'N'\")\n",
        "print(\"are the most important metrics to analyze, as they show the model's ability to\")\n",
        "print(\"correctly identify loan applications that should be rejected.\")\n"
      ],
      "metadata": {
        "colab": {
          "base_uri": "https://localhost:8080/",
          "height": 1000
        },
        "id": "h_Q1KEijllMC",
        "outputId": "32c78c5d-2d08-4021-a1a0-7dfcb2fe25ce"
      },
      "execution_count": 87,
      "outputs": [
        {
          "output_type": "stream",
          "name": "stdout",
          "text": [
            "First 5 rows of the generated dataset:\n",
            "  Gender Married Dependents     Education Self_Employed  ApplicantIncome  \\\n",
            "0   Male      No        nan      Graduate            No          47300.0   \n",
            "1    nan      No          0      Graduate            No          38463.0   \n",
            "2   Male     Yes         3+  Not Graduate            No          55830.0   \n",
            "3   Male     Yes          0      Graduate            No          53207.0   \n",
            "4   Male      No          0      Graduate           nan          20189.0   \n",
            "\n",
            "   CoapplicantIncome  LoanAmount  Loan_Amount_Term  Credit_History  \\\n",
            "0              14031       152.0             240.0             1.0   \n",
            "1              14536        24.0             360.0             1.0   \n",
            "2                446       310.0             360.0             1.0   \n",
            "3              36683       431.0             360.0             1.0   \n",
            "4              17618         NaN             300.0             1.0   \n",
            "\n",
            "  Property_Area Loan_Status  \n",
            "0         Urban           Y  \n",
            "1         Urban           Y  \n",
            "2         Urban           Y  \n",
            "3         Rural           N  \n",
            "4         Rural           Y  \n",
            "\n",
            "Missing values before preprocessing:\n",
            "Gender                0\n",
            "Married               0\n",
            "Dependents            0\n",
            "Education             0\n",
            "Self_Employed         0\n",
            "ApplicantIncome      10\n",
            "CoapplicantIncome     0\n",
            "LoanAmount           15\n",
            "Loan_Amount_Term     14\n",
            "Credit_History       36\n",
            "Property_Area         0\n",
            "Loan_Status           0\n",
            "dtype: int64\n",
            "\n",
            "Loan Status distribution (Imbalance check):\n",
            "Loan_Status\n",
            "Y    429\n",
            "N    185\n",
            "Name: count, dtype: int64\n",
            "Percentage of 'Y' (Approved): 0.70%\n",
            "Percentage of 'N' (Rejected): 0.30%\n",
            "\n",
            "Training set size: 460 samples\n",
            "Testing set size: 154 samples\n",
            "\n",
            "Class distribution before SMOTE: Counter({1: 321, 0: 139})\n",
            "Class distribution after SMOTE: Counter({1: 321, 0: 321})\n",
            "\n",
            "--- Training Logistic Regression Model ---\n",
            "\n",
            "Logistic Regression Classification Report:\n",
            "              precision    recall  f1-score   support\n",
            "\n",
            "           0       0.25      0.43      0.32        46\n",
            "           1       0.65      0.44      0.53       108\n",
            "\n",
            "    accuracy                           0.44       154\n",
            "   macro avg       0.45      0.44      0.42       154\n",
            "weighted avg       0.53      0.44      0.46       154\n",
            "\n",
            "\n",
            "--- Training Decision Tree Classifier ---\n",
            "\n",
            "Decision Tree Classification Report:\n",
            "              precision    recall  f1-score   support\n",
            "\n",
            "           0       0.29      0.41      0.34        46\n",
            "           1       0.70      0.57      0.63       108\n",
            "\n",
            "    accuracy                           0.53       154\n",
            "   macro avg       0.49      0.49      0.49       154\n",
            "weighted avg       0.58      0.53      0.54       154\n",
            "\n",
            "\n",
            "--- Visualizing Confusion Matrix for Decision Tree ---\n"
          ]
        },
        {
          "output_type": "display_data",
          "data": {
            "text/plain": [
              "<Figure size 800x600 with 2 Axes>"
            ],
            "image/png": "[encoded data removed]"
          },
          "metadata": {}
        },
        {
          "output_type": "stream",
          "name": "stdout",
          "text": [
            "\n",
            "--- Discussion of Results ---\n",
            "On imbalanced data, accuracy can be misleading. A model that predicts 'Y' for every applicant\n",
            "would have a high accuracy score but would be useless. That's why we look at:\n",
            "- Precision: How many of the predicted 'Y's were actually 'Y's?\n",
            "- Recall: How many of the actual 'Y's were correctly identified?\n",
            "- F1-score: The harmonic mean of precision and recall.\n",
            "\n",
            "Comparing the models, you should see that after using SMOTE, the models perform\n",
            "much better on the minority class ('N'). The F1-score and Recall for class 'N'\n",
            "are the most important metrics to analyze, as they show the model's ability to\n",
            "correctly identify loan applications that should be rejected.\n"
          ]
        }
      ]
    },
    {
      "cell_type": "markdown",
      "source": [
        "Task 5:  Movie Recommendation System Description"
      ],
      "metadata": {
        "id": "W_uaUXw1uGkB"
      }
    },
    {
      "cell_type": "code",
      "source": [
        "import numpy as np\n",
        "import pandas as pd\n",
        "from scipy.sparse.linalg import svds\n",
        "from sklearn.metrics.pairwise import cosine_similarity\n",
        "from sklearn.model_selection import train_test_split\n",
        "from sklearn.preprocessing import StandardScaler\n",
        "\n",
        "print(\"--- STEP 1: Data Generation and Preprocessing ---\")\n",
        "print(\"Simulating the MovieLens 100K dataset for demonstration.\")\n",
        "\n",
        "np.random.seed(42)\n",
        "n_users = 943\n",
        "n_movies = 1682\n",
        "n_ratings = 100000\n",
        "\n",
        "ratings_data = {\n",
        "    'user_id': np.random.randint(1, n_users + 1, n_ratings),\n",
        "    'item_id': np.random.randint(1, n_movies + 1, n_ratings),\n",
        "    'rating': np.random.randint(1, 6, n_ratings)\n",
        "}\n",
        "ratings_df = pd.DataFrame(ratings_data)\n",
        "\n",
        "ratings_matrix = ratings_df.pivot_table(index='user_id', columns='item_id', values='rating').fillna(0)\n",
        "\n",
        "print(\"Shape of the User-Item Matrix:\", ratings_matrix.shape)\n",
        "print(\"First 5 rows of the User-Item Matrix:\")\n",
        "print(ratings_matrix.head())\n",
        "\n",
        "print(\"\\n--- STEP 2: User-Based Collaborative Filtering (UBCF) ---\")\n",
        "print(\"Calculating user similarity using cosine similarity.\")\n",
        "\n",
        "user_similarity = cosine_similarity(ratings_matrix)\n",
        "user_similarity_df = pd.DataFrame(user_similarity, index=ratings_matrix.index, columns=ratings_matrix.index)\n",
        "\n",
        "def get_similar_users(target_user, similarity_df, num_neighbors):\n",
        "    similar_users = similarity_df[target_user].sort_values(ascending=False).index[1:num_neighbors+1]\n",
        "    return similar_users\n",
        "\n",
        "def recommend_ubcf(target_user, ratings_matrix, user_similarity_df, num_neighbors=10, k_recs=10):\n",
        "    similar_users = get_similar_users(target_user, user_similarity_df, num_neighbors)\n",
        "    similar_users_ratings = ratings_matrix.loc[similar_users]\n",
        "\n",
        "    unseen_movies = ratings_matrix.loc[target_user][ratings_matrix.loc[target_user] == 0].index\n",
        "\n",
        "    predictions = similar_users_ratings.mean(axis=0)\n",
        "    predictions = predictions[unseen_movies].sort_values(ascending=False)\n",
        "\n",
        "    return predictions.head(k_recs)\n",
        "\n",
        "target_user_id = ratings_matrix.index[0]\n",
        "ubcf_recs = recommend_ubcf(target_user_id, ratings_matrix, user_similarity_df)\n",
        "print(f\"\\nUBCF Recommendations for User {target_user_id}:\")\n",
        "print(ubcf_recs)\n",
        "\n",
        "print(\"\\n--- STEP 3: Evaluation (Precision at K) ---\")\n",
        "print(\"Splitting data to evaluate recommendations based on 'Precision at K'.\")\n",
        "\n",
        "train_df, test_df = train_test_split(ratings_df, test_size=0.2, random_state=42)\n",
        "\n",
        "train_matrix = train_df.pivot_table(index='user_id', columns='item_id', values='rating').fillna(0)\n",
        "test_matrix = test_df.pivot_table(index='user_id', columns='item_id', values='rating').fillna(0)\n",
        "\n",
        "test_users = test_df['user_id'].unique()\n",
        "precision_at_k = []\n",
        "k = 10\n",
        "\n",
        "for user_id in test_users:\n",
        "    if user_id in train_matrix.index:\n",
        "        unseen_movies = test_matrix.loc[user_id].index\n",
        "        if len(unseen_movies) > 0:\n",
        "            ubcf_recs_eval = recommend_ubcf(user_id, train_matrix, pd.DataFrame(cosine_similarity(train_matrix), index=train_matrix.index, columns=train_matrix.index), k_recs=k)\n",
        "            relevant_recs = set(ubcf_recs_eval.index) & set(test_matrix.loc[user_id][test_matrix.loc[user_id] > 3].index)\n",
        "\n",
        "            if len(ubcf_recs_eval) > 0:\n",
        "                precision_at_k.append(len(relevant_recs) / len(ubcf_recs_eval))\n",
        "\n",
        "if len(precision_at_k) > 0:\n",
        "    print(f\"\\nAverage Precision at {k} for UBCF: {np.mean(precision_at_k):.4f}\")\n",
        "else:\n",
        "    print(\"\\nCould not calculate Precision at K. Please ensure test data has relevant ratings.\")\n",
        "\n",
        "print(\"\\n--- BONUS 1: Item-Based Collaborative Filtering (IBCF) ---\")\n",
        "print(\"Calculating item similarity and making recommendations.\")\n",
        "\n",
        "item_matrix = ratings_matrix.T\n",
        "item_similarity = cosine_similarity(item_matrix)\n",
        "item_similarity_df = pd.DataFrame(item_similarity, index=item_matrix.index, columns=item_matrix.index)\n",
        "\n",
        "def recommend_ibcf(target_user, ratings_matrix, item_similarity_df, k_recs=10):\n",
        "    user_ratings = ratings_matrix.loc[target_user]\n",
        "    seen_movies = user_ratings[user_ratings > 0].index\n",
        "    unseen_movies = user_ratings[user_ratings == 0].index\n",
        "\n",
        "    if len(seen_movies) == 0:\n",
        "        return pd.Series(dtype='float64')\n",
        "\n",
        "    predictions = {}\n",
        "    for movie in unseen_movies:\n",
        "        similar_items = item_similarity_df[movie].loc[seen_movies].sort_values(ascending=False)\n",
        "        predictions[movie] = (similar_items * user_ratings[similar_items.index]).sum() / similar_items.sum()\n",
        "\n",
        "    return pd.Series(predictions).sort_values(ascending=False).head(k_recs)\n",
        "\n",
        "ibcf_recs = recommend_ibcf(target_user_id, ratings_matrix, item_similarity_df)\n",
        "print(f\"\\nIBCF Recommendations for User {target_user_id}:\")\n",
        "print(ibcf_recs)\n",
        "\n",
        "print(\"\\n--- BONUS 2: Matrix Factorization (SVD) ---\")\n",
        "print(\"Using Singular Value Decomposition to find latent factors.\")\n",
        "\n",
        "# SVD only works on dense matrices without NaNs, so we need to process our pivoted matrix.\n",
        "ratings_matrix_dense = ratings_matrix.values\n",
        "user_ratings_mean = np.mean(ratings_matrix_dense, axis=1)\n",
        "ratings_demeaned = ratings_matrix_dense - user_ratings_mean.reshape(-1, 1)\n",
        "\n",
        "U, sigma, Vt = svds(ratings_demeaned, k=50)\n",
        "\n",
        "sigma_diag = np.diag(sigma)\n",
        "predicted_ratings = np.dot(np.dot(U, sigma_diag), Vt) + user_ratings_mean.reshape(-1, 1)\n",
        "predicted_ratings_df = pd.DataFrame(predicted_ratings, index=ratings_matrix.index, columns=ratings_matrix.columns)\n",
        "\n",
        "def recommend_svd(target_user, predicted_ratings_df, original_ratings_matrix, k_recs=10):\n",
        "    user_id_row = original_ratings_matrix.index.get_loc(target_user)\n",
        "\n",
        "    sorted_ratings = predicted_ratings_df.iloc[user_id_row].sort_values(ascending=False)\n",
        "\n",
        "    unseen_movies_indices = original_ratings_matrix.loc[target_user][original_ratings_matrix.loc[target_user] == 0].index\n",
        "\n",
        "    recommendations = sorted_ratings[unseen_movies_indices].head(k_recs)\n",
        "\n",
        "    return recommendations\n",
        "\n",
        "svd_recs = recommend_svd(target_user_id, predicted_ratings_df, ratings_matrix)\n",
        "print(f\"\\nSVD Recommendations for User {target_user_id}:\")\n",
        "print(svd_recs)\n"
      ],
      "metadata": {
        "colab": {
          "base_uri": "https://localhost:8080/"
        },
        "id": "Hqu8I8VBuiqp",
        "outputId": "0d55d6d8-3326-44d3-e527-9830c8c69e61"
      },
      "execution_count": 91,
      "outputs": [
        {
          "output_type": "stream",
          "name": "stdout",
          "text": [
            "--- STEP 1: Data Generation and Preprocessing ---\n",
            "Simulating the MovieLens 100K dataset for demonstration.\n",
            "Shape of the User-Item Matrix: (943, 1682)\n",
            "First 5 rows of the User-Item Matrix:\n",
            "item_id  1     2     3     4     5     6     7     8     9     10    ...  \\\n",
            "user_id                                                              ...   \n",
            "1         0.0   0.0   0.0   0.0   0.0   2.0   0.0   0.0   0.0   0.0  ...   \n",
            "2         4.0   0.0   0.0   0.0   0.0   0.0   0.0   0.0   0.0   0.0  ...   \n",
            "3         0.0   0.0   0.0   3.0   5.0   0.0   0.0   0.0   0.0   0.0  ...   \n",
            "4         0.0   0.0   0.0   0.0   0.0   0.0   0.0   0.0   0.0   0.0  ...   \n",
            "5         0.0   0.0   0.0   0.0   0.0   0.0   0.0   0.0   1.0   0.0  ...   \n",
            "\n",
            "item_id  1673  1674  1675  1676  1677  1678  1679  1680  1681  1682  \n",
            "user_id                                                              \n",
            "1         0.0   0.0   0.0   0.0   0.0   0.0   0.0   0.0   0.0   0.0  \n",
            "2         0.0   0.0   0.0   4.0   0.0   0.0   0.0   0.0   0.0   0.0  \n",
            "3         0.0   0.0   0.0   0.0   0.0   0.0   0.0   0.0   0.0   0.0  \n",
            "4         0.0   0.0   3.0   0.0   0.0   0.0   0.0   0.0   0.0   0.0  \n",
            "5         0.0   0.0   0.0   0.0   0.0   0.0   0.0   0.0   0.0   0.0  \n",
            "\n",
            "[5 rows x 1682 columns]\n",
            "\n",
            "--- STEP 2: User-Based Collaborative Filtering (UBCF) ---\n",
            "Calculating user similarity using cosine similarity.\n",
            "\n",
            "UBCF Recommendations for User 1:\n",
            "item_id\n",
            "553     1.65\n",
            "244     1.40\n",
            "1228    1.20\n",
            "139     1.20\n",
            "579     1.15\n",
            "850     1.10\n",
            "1058    1.10\n",
            "1374    1.10\n",
            "1257    1.10\n",
            "555     1.10\n",
            "dtype: float64\n",
            "\n",
            "--- STEP 3: Evaluation (Precision at K) ---\n",
            "Splitting data to evaluate recommendations based on 'Precision at K'.\n",
            "\n",
            "Average Precision at 10 for UBCF: 0.0052\n",
            "\n",
            "--- BONUS 1: Item-Based Collaborative Filtering (IBCF) ---\n",
            "Calculating item similarity and making recommendations.\n",
            "\n",
            "IBCF Recommendations for User 1:\n",
            "1678    3.247334\n",
            "950     3.212486\n",
            "903     3.210519\n",
            "1384    3.207289\n",
            "1078    3.205610\n",
            "502     3.197180\n",
            "256     3.189381\n",
            "73      3.187297\n",
            "319     3.184667\n",
            "1247    3.179577\n",
            "dtype: float64\n",
            "\n",
            "--- BONUS 2: Matrix Factorization (SVD) ---\n",
            "Using Singular Value Decomposition to find latent factors.\n",
            "\n",
            "SVD Recommendations for User 1:\n",
            "item_id\n",
            "1     0.405705\n",
            "2     0.754478\n",
            "3     0.309136\n",
            "4     0.020027\n",
            "5     0.207456\n",
            "7     0.037901\n",
            "8    -0.013934\n",
            "9     0.486624\n",
            "10    0.471548\n",
            "11    0.454286\n",
            "Name: 1, dtype: float64\n"
          ]
        }
      ]
    }
  ]
}